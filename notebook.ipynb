{
 "cells": [
  {
   "cell_type": "code",
   "execution_count": 1,
   "metadata": {},
   "outputs": [],
   "source": [
    "# importing libraries\n",
    "import pandas as pd\n",
    "import re\n",
    "import numpy as np\n",
    "import spacy\n",
    "import contractions\n",
    "from sklearn.feature_extraction.text import TfidfVectorizer\n",
    "from nltk.tokenize import word_tokenize\n",
    "import nltk\n",
    "from nltk.corpus import wordnet\n",
    "from sklearn.metrics import classification_report\n",
    "from sklearn.metrics import accuracy_score\n",
    "from sklearn.metrics import f1_score\n",
    "from sklearn.model_selection import train_test_split\n",
    "from sklearn.feature_extraction.text import CountVectorizer\n",
    "from sklearn.metrics import f1_score\n",
    "from sklearn.metrics import roc_auc_score"
   ]
  },
  {
   "cell_type": "code",
   "execution_count": 2,
   "metadata": {},
   "outputs": [
    {
     "name": "stdout",
     "output_type": "stream",
     "text": [
      "(8620, 7)\n"
     ]
    },
    {
     "data": {
      "text/html": [
       "<div>\n",
       "<style scoped>\n",
       "    .dataframe tbody tr th:only-of-type {\n",
       "        vertical-align: middle;\n",
       "    }\n",
       "\n",
       "    .dataframe tbody tr th {\n",
       "        vertical-align: top;\n",
       "    }\n",
       "\n",
       "    .dataframe thead th {\n",
       "        text-align: right;\n",
       "    }\n",
       "</style>\n",
       "<table border=\"1\" class=\"dataframe\">\n",
       "  <thead>\n",
       "    <tr style=\"text-align: right;\">\n",
       "      <th></th>\n",
       "      <th>Unnamed: 0.1</th>\n",
       "      <th>Unnamed: 0</th>\n",
       "      <th>title</th>\n",
       "      <th>text</th>\n",
       "      <th>subject</th>\n",
       "      <th>date</th>\n",
       "      <th>label</th>\n",
       "    </tr>\n",
       "  </thead>\n",
       "  <tbody>\n",
       "    <tr>\n",
       "      <th>0</th>\n",
       "      <td>4218</td>\n",
       "      <td>15432</td>\n",
       "      <td>NEWSFLASH FOR OUR IMPERIAL PRESIDENT: STATES C...</td>\n",
       "      <td>As Barack Hussein Obama tours around the count...</td>\n",
       "      <td>politics</td>\n",
       "      <td>Jul 23, 2015</td>\n",
       "      <td>FAKE</td>\n",
       "    </tr>\n",
       "    <tr>\n",
       "      <th>1</th>\n",
       "      <td>3828</td>\n",
       "      <td>19686</td>\n",
       "      <td>Factbox: Reactions to speech by Myanmar's Suu ...</td>\n",
       "      <td>NAYPYITAW (Reuters) - Myanmar leader Aung San ...</td>\n",
       "      <td>worldnews</td>\n",
       "      <td>September 19, 2017</td>\n",
       "      <td>REAL</td>\n",
       "    </tr>\n",
       "    <tr>\n",
       "      <th>2</th>\n",
       "      <td>9288</td>\n",
       "      <td>10721</td>\n",
       "      <td>RADICAL, INTOLERANT Students Held College Admi...</td>\n",
       "      <td>Video from inside Evergreen State College cont...</td>\n",
       "      <td>politics</td>\n",
       "      <td>Jun 2, 2017</td>\n",
       "      <td>FAKE</td>\n",
       "    </tr>\n",
       "    <tr>\n",
       "      <th>3</th>\n",
       "      <td>11577</td>\n",
       "      <td>20031</td>\n",
       "      <td>Japan's Suga: government strongly protests lat...</td>\n",
       "      <td>TOKYO (Reuters) - North Korea fired a ballisti...</td>\n",
       "      <td>worldnews</td>\n",
       "      <td>September 14, 2017</td>\n",
       "      <td>REAL</td>\n",
       "    </tr>\n",
       "    <tr>\n",
       "      <th>4</th>\n",
       "      <td>8869</td>\n",
       "      <td>10577</td>\n",
       "      <td>CNN’s Jim Acosta Goes Bonkers Waving His Hands...</td>\n",
       "      <td>Watch Jim Acosta wave his hands around and hav...</td>\n",
       "      <td>politics</td>\n",
       "      <td>Jun 19, 2017</td>\n",
       "      <td>FAKE</td>\n",
       "    </tr>\n",
       "  </tbody>\n",
       "</table>\n",
       "</div>"
      ],
      "text/plain": [
       "   Unnamed: 0.1  Unnamed: 0  \\\n",
       "0          4218       15432   \n",
       "1          3828       19686   \n",
       "2          9288       10721   \n",
       "3         11577       20031   \n",
       "4          8869       10577   \n",
       "\n",
       "                                               title  \\\n",
       "0  NEWSFLASH FOR OUR IMPERIAL PRESIDENT: STATES C...   \n",
       "1  Factbox: Reactions to speech by Myanmar's Suu ...   \n",
       "2  RADICAL, INTOLERANT Students Held College Admi...   \n",
       "3  Japan's Suga: government strongly protests lat...   \n",
       "4  CNN’s Jim Acosta Goes Bonkers Waving His Hands...   \n",
       "\n",
       "                                                text    subject  \\\n",
       "0  As Barack Hussein Obama tours around the count...   politics   \n",
       "1  NAYPYITAW (Reuters) - Myanmar leader Aung San ...  worldnews   \n",
       "2  Video from inside Evergreen State College cont...   politics   \n",
       "3  TOKYO (Reuters) - North Korea fired a ballisti...  worldnews   \n",
       "4  Watch Jim Acosta wave his hands around and hav...   politics   \n",
       "\n",
       "                  date label  \n",
       "0         Jul 23, 2015  FAKE  \n",
       "1  September 19, 2017   REAL  \n",
       "2          Jun 2, 2017  FAKE  \n",
       "3  September 14, 2017   REAL  \n",
       "4         Jun 19, 2017  FAKE  "
      ]
     },
     "execution_count": 2,
     "metadata": {},
     "output_type": "execute_result"
    }
   ],
   "source": [
    "#loading datasets\n",
    "df1 = pd.read_csv('./data/news_a1.csv')\n",
    "print(df1.shape)\n",
    "df1.head()"
   ]
  },
  {
   "cell_type": "code",
   "execution_count": 3,
   "metadata": {},
   "outputs": [
    {
     "name": "stdout",
     "output_type": "stream",
     "text": [
      "(8620, 7)\n"
     ]
    },
    {
     "data": {
      "text/html": [
       "<div>\n",
       "<style scoped>\n",
       "    .dataframe tbody tr th:only-of-type {\n",
       "        vertical-align: middle;\n",
       "    }\n",
       "\n",
       "    .dataframe tbody tr th {\n",
       "        vertical-align: top;\n",
       "    }\n",
       "\n",
       "    .dataframe thead th {\n",
       "        text-align: right;\n",
       "    }\n",
       "</style>\n",
       "<table border=\"1\" class=\"dataframe\">\n",
       "  <thead>\n",
       "    <tr style=\"text-align: right;\">\n",
       "      <th></th>\n",
       "      <th>Unnamed: 0.1</th>\n",
       "      <th>Unnamed: 0</th>\n",
       "      <th>title</th>\n",
       "      <th>text</th>\n",
       "      <th>subject</th>\n",
       "      <th>date</th>\n",
       "      <th>label</th>\n",
       "    </tr>\n",
       "  </thead>\n",
       "  <tbody>\n",
       "    <tr>\n",
       "      <th>0</th>\n",
       "      <td>22406</td>\n",
       "      <td>4545</td>\n",
       "      <td>Trump officials defend immigration arrests at ...</td>\n",
       "      <td>LOS ANGELES (Reuters) - Federal agents have ar...</td>\n",
       "      <td>politicsNews</td>\n",
       "      <td>March 31, 2017</td>\n",
       "      <td>REAL</td>\n",
       "    </tr>\n",
       "    <tr>\n",
       "      <th>1</th>\n",
       "      <td>4061</td>\n",
       "      <td>20039</td>\n",
       "      <td>LIBERAL SMACK DOWN OF THE DAY: Watch What Happ...</td>\n",
       "      <td>The Left is not able to get away with shaming ...</td>\n",
       "      <td>left-news</td>\n",
       "      <td>Sep 2, 2016</td>\n",
       "      <td>FAKE</td>\n",
       "    </tr>\n",
       "    <tr>\n",
       "      <th>2</th>\n",
       "      <td>3456</td>\n",
       "      <td>6739</td>\n",
       "      <td>Factbox: Trump fills top jobs for his administ...</td>\n",
       "      <td>(Reuters) - U.S. President-elect Donald Trump ...</td>\n",
       "      <td>politicsNews</td>\n",
       "      <td>December 13, 2016</td>\n",
       "      <td>REAL</td>\n",
       "    </tr>\n",
       "    <tr>\n",
       "      <th>3</th>\n",
       "      <td>4956</td>\n",
       "      <td>18869</td>\n",
       "      <td>Iraq Kurdish vote may benefit Syrian Kurds, sa...</td>\n",
       "      <td>BEIRUT (Reuters) - The Iraqi Kurdish vote for ...</td>\n",
       "      <td>worldnews</td>\n",
       "      <td>September 27, 2017</td>\n",
       "      <td>REAL</td>\n",
       "    </tr>\n",
       "    <tr>\n",
       "      <th>4</th>\n",
       "      <td>7787</td>\n",
       "      <td>17092</td>\n",
       "      <td>Tillerson to visit Pakistan as well as India: ...</td>\n",
       "      <td>WASHINGTON (Reuters) - U.S. Secretary of State...</td>\n",
       "      <td>worldnews</td>\n",
       "      <td>October 18, 2017</td>\n",
       "      <td>REAL</td>\n",
       "    </tr>\n",
       "  </tbody>\n",
       "</table>\n",
       "</div>"
      ],
      "text/plain": [
       "   Unnamed: 0.1  Unnamed: 0  \\\n",
       "0         22406        4545   \n",
       "1          4061       20039   \n",
       "2          3456        6739   \n",
       "3          4956       18869   \n",
       "4          7787       17092   \n",
       "\n",
       "                                               title  \\\n",
       "0  Trump officials defend immigration arrests at ...   \n",
       "1  LIBERAL SMACK DOWN OF THE DAY: Watch What Happ...   \n",
       "2  Factbox: Trump fills top jobs for his administ...   \n",
       "3  Iraq Kurdish vote may benefit Syrian Kurds, sa...   \n",
       "4  Tillerson to visit Pakistan as well as India: ...   \n",
       "\n",
       "                                                text       subject  \\\n",
       "0  LOS ANGELES (Reuters) - Federal agents have ar...  politicsNews   \n",
       "1  The Left is not able to get away with shaming ...     left-news   \n",
       "2  (Reuters) - U.S. President-elect Donald Trump ...  politicsNews   \n",
       "3  BEIRUT (Reuters) - The Iraqi Kurdish vote for ...     worldnews   \n",
       "4  WASHINGTON (Reuters) - U.S. Secretary of State...     worldnews   \n",
       "\n",
       "                  date label  \n",
       "0      March 31, 2017   REAL  \n",
       "1          Sep 2, 2016  FAKE  \n",
       "2   December 13, 2016   REAL  \n",
       "3  September 27, 2017   REAL  \n",
       "4    October 18, 2017   REAL  "
      ]
     },
     "execution_count": 3,
     "metadata": {},
     "output_type": "execute_result"
    }
   ],
   "source": [
    "df2 = pd.read_csv('./data/news_a2.csv')\n",
    "print(df2.shape)\n",
    "df2.head()"
   ]
  },
  {
   "cell_type": "code",
   "execution_count": 4,
   "metadata": {},
   "outputs": [
    {
     "name": "stdout",
     "output_type": "stream",
     "text": [
      "(8980, 6)\n"
     ]
    },
    {
     "data": {
      "text/html": [
       "<div>\n",
       "<style scoped>\n",
       "    .dataframe tbody tr th:only-of-type {\n",
       "        vertical-align: middle;\n",
       "    }\n",
       "\n",
       "    .dataframe tbody tr th {\n",
       "        vertical-align: top;\n",
       "    }\n",
       "\n",
       "    .dataframe thead th {\n",
       "        text-align: right;\n",
       "    }\n",
       "</style>\n",
       "<table border=\"1\" class=\"dataframe\">\n",
       "  <thead>\n",
       "    <tr style=\"text-align: right;\">\n",
       "      <th></th>\n",
       "      <th>Unnamed: 0</th>\n",
       "      <th>title</th>\n",
       "      <th>text</th>\n",
       "      <th>subject</th>\n",
       "      <th>date</th>\n",
       "      <th>label</th>\n",
       "    </tr>\n",
       "  </thead>\n",
       "  <tbody>\n",
       "    <tr>\n",
       "      <th>0</th>\n",
       "      <td>22216</td>\n",
       "      <td>Ben Stein Calls Out 9th Circuit Court: Committ...</td>\n",
       "      <td>21st Century Wire says Ben Stein, reputable pr...</td>\n",
       "      <td>US_News</td>\n",
       "      <td>February 13, 2017</td>\n",
       "      <td>FAKE</td>\n",
       "    </tr>\n",
       "    <tr>\n",
       "      <th>1</th>\n",
       "      <td>4436</td>\n",
       "      <td>Trump drops Steve Bannon from National Securit...</td>\n",
       "      <td>WASHINGTON (Reuters) - U.S. President Donald T...</td>\n",
       "      <td>politicsNews</td>\n",
       "      <td>April 5, 2017</td>\n",
       "      <td>REAL</td>\n",
       "    </tr>\n",
       "    <tr>\n",
       "      <th>2</th>\n",
       "      <td>1526</td>\n",
       "      <td>Puerto Rico expects U.S. to lift Jones Act shi...</td>\n",
       "      <td>(Reuters) - Puerto Rico Governor Ricardo Rosse...</td>\n",
       "      <td>politicsNews</td>\n",
       "      <td>September 27, 2017</td>\n",
       "      <td>REAL</td>\n",
       "    </tr>\n",
       "    <tr>\n",
       "      <th>3</th>\n",
       "      <td>1377</td>\n",
       "      <td>OOPS: Trump Just Accidentally Confirmed He Le...</td>\n",
       "      <td>On Monday, Donald Trump once again embarrassed...</td>\n",
       "      <td>News</td>\n",
       "      <td>May 22, 2017</td>\n",
       "      <td>FAKE</td>\n",
       "    </tr>\n",
       "    <tr>\n",
       "      <th>4</th>\n",
       "      <td>8995</td>\n",
       "      <td>Donald Trump heads for Scotland to reopen a go...</td>\n",
       "      <td>GLASGOW, Scotland (Reuters) - Most U.S. presid...</td>\n",
       "      <td>politicsNews</td>\n",
       "      <td>June 24, 2016</td>\n",
       "      <td>REAL</td>\n",
       "    </tr>\n",
       "  </tbody>\n",
       "</table>\n",
       "</div>"
      ],
      "text/plain": [
       "   Unnamed: 0                                              title  \\\n",
       "0       22216  Ben Stein Calls Out 9th Circuit Court: Committ...   \n",
       "1        4436  Trump drops Steve Bannon from National Securit...   \n",
       "2        1526  Puerto Rico expects U.S. to lift Jones Act shi...   \n",
       "3        1377   OOPS: Trump Just Accidentally Confirmed He Le...   \n",
       "4        8995  Donald Trump heads for Scotland to reopen a go...   \n",
       "\n",
       "                                                text       subject  \\\n",
       "0  21st Century Wire says Ben Stein, reputable pr...       US_News   \n",
       "1  WASHINGTON (Reuters) - U.S. President Donald T...  politicsNews   \n",
       "2  (Reuters) - Puerto Rico Governor Ricardo Rosse...  politicsNews   \n",
       "3  On Monday, Donald Trump once again embarrassed...          News   \n",
       "4  GLASGOW, Scotland (Reuters) - Most U.S. presid...  politicsNews   \n",
       "\n",
       "                  date label  \n",
       "0    February 13, 2017  FAKE  \n",
       "1       April 5, 2017   REAL  \n",
       "2  September 27, 2017   REAL  \n",
       "3         May 22, 2017  FAKE  \n",
       "4       June 24, 2016   REAL  "
      ]
     },
     "execution_count": 4,
     "metadata": {},
     "output_type": "execute_result"
    }
   ],
   "source": [
    "df3 = pd.read_csv('./data/news2.csv')\n",
    "print(df3.shape)\n",
    "df3.head()"
   ]
  },
  {
   "cell_type": "markdown",
   "metadata": {},
   "source": [
    "Data preparation and cleaning"
   ]
  },
  {
   "cell_type": "code",
   "execution_count": 5,
   "metadata": {},
   "outputs": [
    {
     "name": "stdout",
     "output_type": "stream",
     "text": [
      "(26220, 7)\n"
     ]
    },
    {
     "data": {
      "text/html": [
       "<div>\n",
       "<style scoped>\n",
       "    .dataframe tbody tr th:only-of-type {\n",
       "        vertical-align: middle;\n",
       "    }\n",
       "\n",
       "    .dataframe tbody tr th {\n",
       "        vertical-align: top;\n",
       "    }\n",
       "\n",
       "    .dataframe thead th {\n",
       "        text-align: right;\n",
       "    }\n",
       "</style>\n",
       "<table border=\"1\" class=\"dataframe\">\n",
       "  <thead>\n",
       "    <tr style=\"text-align: right;\">\n",
       "      <th></th>\n",
       "      <th>Unnamed: 0.1</th>\n",
       "      <th>Unnamed: 0</th>\n",
       "      <th>title</th>\n",
       "      <th>text</th>\n",
       "      <th>subject</th>\n",
       "      <th>date</th>\n",
       "      <th>label</th>\n",
       "    </tr>\n",
       "  </thead>\n",
       "  <tbody>\n",
       "    <tr>\n",
       "      <th>0</th>\n",
       "      <td>4218.0</td>\n",
       "      <td>15432</td>\n",
       "      <td>NEWSFLASH FOR OUR IMPERIAL PRESIDENT: STATES C...</td>\n",
       "      <td>As Barack Hussein Obama tours around the count...</td>\n",
       "      <td>politics</td>\n",
       "      <td>Jul 23, 2015</td>\n",
       "      <td>FAKE</td>\n",
       "    </tr>\n",
       "    <tr>\n",
       "      <th>1</th>\n",
       "      <td>3828.0</td>\n",
       "      <td>19686</td>\n",
       "      <td>Factbox: Reactions to speech by Myanmar's Suu ...</td>\n",
       "      <td>NAYPYITAW (Reuters) - Myanmar leader Aung San ...</td>\n",
       "      <td>worldnews</td>\n",
       "      <td>September 19, 2017</td>\n",
       "      <td>REAL</td>\n",
       "    </tr>\n",
       "    <tr>\n",
       "      <th>2</th>\n",
       "      <td>9288.0</td>\n",
       "      <td>10721</td>\n",
       "      <td>RADICAL, INTOLERANT Students Held College Admi...</td>\n",
       "      <td>Video from inside Evergreen State College cont...</td>\n",
       "      <td>politics</td>\n",
       "      <td>Jun 2, 2017</td>\n",
       "      <td>FAKE</td>\n",
       "    </tr>\n",
       "    <tr>\n",
       "      <th>3</th>\n",
       "      <td>11577.0</td>\n",
       "      <td>20031</td>\n",
       "      <td>Japan's Suga: government strongly protests lat...</td>\n",
       "      <td>TOKYO (Reuters) - North Korea fired a ballisti...</td>\n",
       "      <td>worldnews</td>\n",
       "      <td>September 14, 2017</td>\n",
       "      <td>REAL</td>\n",
       "    </tr>\n",
       "    <tr>\n",
       "      <th>4</th>\n",
       "      <td>8869.0</td>\n",
       "      <td>10577</td>\n",
       "      <td>CNN’s Jim Acosta Goes Bonkers Waving His Hands...</td>\n",
       "      <td>Watch Jim Acosta wave his hands around and hav...</td>\n",
       "      <td>politics</td>\n",
       "      <td>Jun 19, 2017</td>\n",
       "      <td>FAKE</td>\n",
       "    </tr>\n",
       "  </tbody>\n",
       "</table>\n",
       "</div>"
      ],
      "text/plain": [
       "   Unnamed: 0.1  Unnamed: 0  \\\n",
       "0        4218.0       15432   \n",
       "1        3828.0       19686   \n",
       "2        9288.0       10721   \n",
       "3       11577.0       20031   \n",
       "4        8869.0       10577   \n",
       "\n",
       "                                               title  \\\n",
       "0  NEWSFLASH FOR OUR IMPERIAL PRESIDENT: STATES C...   \n",
       "1  Factbox: Reactions to speech by Myanmar's Suu ...   \n",
       "2  RADICAL, INTOLERANT Students Held College Admi...   \n",
       "3  Japan's Suga: government strongly protests lat...   \n",
       "4  CNN’s Jim Acosta Goes Bonkers Waving His Hands...   \n",
       "\n",
       "                                                text    subject  \\\n",
       "0  As Barack Hussein Obama tours around the count...   politics   \n",
       "1  NAYPYITAW (Reuters) - Myanmar leader Aung San ...  worldnews   \n",
       "2  Video from inside Evergreen State College cont...   politics   \n",
       "3  TOKYO (Reuters) - North Korea fired a ballisti...  worldnews   \n",
       "4  Watch Jim Acosta wave his hands around and hav...   politics   \n",
       "\n",
       "                  date label  \n",
       "0         Jul 23, 2015  FAKE  \n",
       "1  September 19, 2017   REAL  \n",
       "2          Jun 2, 2017  FAKE  \n",
       "3  September 14, 2017   REAL  \n",
       "4         Jun 19, 2017  FAKE  "
      ]
     },
     "execution_count": 5,
     "metadata": {},
     "output_type": "execute_result"
    }
   ],
   "source": [
    "# joining the datasets \n",
    "df = pd.concat([df1, df2, df3])\n",
    "print(df.shape)\n",
    "df.head()"
   ]
  },
  {
   "cell_type": "code",
   "execution_count": 6,
   "metadata": {},
   "outputs": [
    {
     "data": {
      "text/plain": [
       "Unnamed: 0.1    8980\n",
       "Unnamed: 0         0\n",
       "title              0\n",
       "text               0\n",
       "subject            0\n",
       "date               0\n",
       "label              0\n",
       "dtype: int64"
      ]
     },
     "execution_count": 6,
     "metadata": {},
     "output_type": "execute_result"
    }
   ],
   "source": [
    "# checking for missing values\n",
    "df.isnull().sum()"
   ]
  },
  {
   "cell_type": "code",
   "execution_count": 7,
   "metadata": {},
   "outputs": [
    {
     "data": {
      "text/plain": [
       "(24051, 7)"
      ]
     },
     "execution_count": 7,
     "metadata": {},
     "output_type": "execute_result"
    }
   ],
   "source": [
    "# dropping duplicates\n",
    "df.drop_duplicates(subset =\"title\", keep = 'first', inplace = True)\n",
    "df.shape"
   ]
  },
  {
   "cell_type": "code",
   "execution_count": 8,
   "metadata": {},
   "outputs": [
    {
     "data": {
      "text/plain": [
       "REAL    12303\n",
       "FAKE    11748\n",
       "Name: label, dtype: int64"
      ]
     },
     "execution_count": 8,
     "metadata": {},
     "output_type": "execute_result"
    }
   ],
   "source": [
    "# checking imbalanced data\n",
    "df['label'].value_counts()"
   ]
  },
  {
   "cell_type": "markdown",
   "metadata": {},
   "source": [
    "Text Cleaning"
   ]
  },
  {
   "cell_type": "code",
   "execution_count": 9,
   "metadata": {},
   "outputs": [],
   "source": [
    "# normalizing the documents\n",
    "def normalize_document(doc):\n",
    "    # remove special characters\\whitespaces\n",
    "    pattern = r'[^a-zA-Z0-9\\s]'\n",
    "    doc = re.sub(pattern, '', doc)\n",
    "    doc = doc.strip()\n",
    "    doc = contractions.fix(doc)\n",
    "    doc = doc.lower()\n",
    "    return doc"
   ]
  },
  {
   "cell_type": "code",
   "execution_count": 10,
   "metadata": {},
   "outputs": [],
   "source": [
    "# removing stopwords \n",
    "nlp = spacy.load('en_core_web_sm')\n",
    "stopwords = nlp.Defaults.stop_words\n",
    "def remove_stop(doc):\n",
    "    #tokenize words\n",
    "    word_tokens = word_tokenize(doc)\n",
    "    #removing stopwords\n",
    "    filtered_tokens = [token for token in word_tokens if token not in stopwords]\n",
    "    return filtered_tokens"
   ]
  },
  {
   "cell_type": "code",
   "execution_count": 11,
   "metadata": {},
   "outputs": [],
   "source": [
    "# function for converting tags\n",
    "def pos_tag_wordnet(tagged_tokens):\n",
    "    tag_map = {'j': wordnet.ADJ, 'v': wordnet.VERB, 'n': wordnet.NOUN, 'r': wordnet.ADV}\n",
    "    new_tagged_tokens = [(word, tag_map.get(tag[0].lower(), wordnet.NOUN))\n",
    "                            for word, tag in tagged_tokens]\n",
    "    return new_tagged_tokens"
   ]
  },
  {
   "cell_type": "code",
   "execution_count": 12,
   "metadata": {},
   "outputs": [],
   "source": [
    "# lematizing words\n",
    "from nltk.stem import WordNetLemmatizer\n",
    "wnl = WordNetLemmatizer()\n",
    "def lemmatize(doc):\n",
    "    #POS tagging\n",
    "    tagged_tokens = nltk.pos_tag(doc)\n",
    "    # converting the tags\n",
    "    wordnet_tokens = pos_tag_wordnet(tagged_tokens)\n",
    "    #lemmatizing\n",
    "    filtered_doc = ' '.join(wnl.lemmatize(word, tag) for word, tag in wordnet_tokens)\n",
    "    return filtered_doc"
   ]
  },
  {
   "cell_type": "code",
   "execution_count": 13,
   "metadata": {},
   "outputs": [
    {
     "data": {
      "text/html": [
       "<div>\n",
       "<style scoped>\n",
       "    .dataframe tbody tr th:only-of-type {\n",
       "        vertical-align: middle;\n",
       "    }\n",
       "\n",
       "    .dataframe tbody tr th {\n",
       "        vertical-align: top;\n",
       "    }\n",
       "\n",
       "    .dataframe thead th {\n",
       "        text-align: right;\n",
       "    }\n",
       "</style>\n",
       "<table border=\"1\" class=\"dataframe\">\n",
       "  <thead>\n",
       "    <tr style=\"text-align: right;\">\n",
       "      <th></th>\n",
       "      <th>Unnamed: 0.1</th>\n",
       "      <th>Unnamed: 0</th>\n",
       "      <th>title</th>\n",
       "      <th>text</th>\n",
       "      <th>subject</th>\n",
       "      <th>date</th>\n",
       "      <th>label</th>\n",
       "      <th>clean_title</th>\n",
       "    </tr>\n",
       "  </thead>\n",
       "  <tbody>\n",
       "    <tr>\n",
       "      <th>0</th>\n",
       "      <td>4218.0</td>\n",
       "      <td>15432</td>\n",
       "      <td>NEWSFLASH FOR OUR IMPERIAL PRESIDENT: STATES C...</td>\n",
       "      <td>As Barack Hussein Obama tours around the count...</td>\n",
       "      <td>politics</td>\n",
       "      <td>Jul 23, 2015</td>\n",
       "      <td>FAKE</td>\n",
       "      <td>newsflash imperial president state refuse iran...</td>\n",
       "    </tr>\n",
       "    <tr>\n",
       "      <th>1</th>\n",
       "      <td>3828.0</td>\n",
       "      <td>19686</td>\n",
       "      <td>Factbox: Reactions to speech by Myanmar's Suu ...</td>\n",
       "      <td>NAYPYITAW (Reuters) - Myanmar leader Aung San ...</td>\n",
       "      <td>worldnews</td>\n",
       "      <td>September 19, 2017</td>\n",
       "      <td>REAL</td>\n",
       "      <td>factbox reaction speech myanmar suu kyi violen...</td>\n",
       "    </tr>\n",
       "    <tr>\n",
       "      <th>2</th>\n",
       "      <td>9288.0</td>\n",
       "      <td>10721</td>\n",
       "      <td>RADICAL, INTOLERANT Students Held College Admi...</td>\n",
       "      <td>Video from inside Evergreen State College cont...</td>\n",
       "      <td>politics</td>\n",
       "      <td>Jun 2, 2017</td>\n",
       "      <td>FAKE</td>\n",
       "      <td>radical intolerant student hold college admini...</td>\n",
       "    </tr>\n",
       "    <tr>\n",
       "      <th>3</th>\n",
       "      <td>11577.0</td>\n",
       "      <td>20031</td>\n",
       "      <td>Japan's Suga: government strongly protests lat...</td>\n",
       "      <td>TOKYO (Reuters) - North Korea fired a ballisti...</td>\n",
       "      <td>worldnews</td>\n",
       "      <td>September 14, 2017</td>\n",
       "      <td>REAL</td>\n",
       "      <td>japan suga government strongly protest late n ...</td>\n",
       "    </tr>\n",
       "    <tr>\n",
       "      <th>4</th>\n",
       "      <td>8869.0</td>\n",
       "      <td>10577</td>\n",
       "      <td>CNN’s Jim Acosta Goes Bonkers Waving His Hands...</td>\n",
       "      <td>Watch Jim Acosta wave his hands around and hav...</td>\n",
       "      <td>politics</td>\n",
       "      <td>Jun 19, 2017</td>\n",
       "      <td>FAKE</td>\n",
       "      <td>cnns jim acosta go bonkers wave hand camera se...</td>\n",
       "    </tr>\n",
       "  </tbody>\n",
       "</table>\n",
       "</div>"
      ],
      "text/plain": [
       "   Unnamed: 0.1  Unnamed: 0  \\\n",
       "0        4218.0       15432   \n",
       "1        3828.0       19686   \n",
       "2        9288.0       10721   \n",
       "3       11577.0       20031   \n",
       "4        8869.0       10577   \n",
       "\n",
       "                                               title  \\\n",
       "0  NEWSFLASH FOR OUR IMPERIAL PRESIDENT: STATES C...   \n",
       "1  Factbox: Reactions to speech by Myanmar's Suu ...   \n",
       "2  RADICAL, INTOLERANT Students Held College Admi...   \n",
       "3  Japan's Suga: government strongly protests lat...   \n",
       "4  CNN’s Jim Acosta Goes Bonkers Waving His Hands...   \n",
       "\n",
       "                                                text    subject  \\\n",
       "0  As Barack Hussein Obama tours around the count...   politics   \n",
       "1  NAYPYITAW (Reuters) - Myanmar leader Aung San ...  worldnews   \n",
       "2  Video from inside Evergreen State College cont...   politics   \n",
       "3  TOKYO (Reuters) - North Korea fired a ballisti...  worldnews   \n",
       "4  Watch Jim Acosta wave his hands around and hav...   politics   \n",
       "\n",
       "                  date label  \\\n",
       "0         Jul 23, 2015  FAKE   \n",
       "1  September 19, 2017   REAL   \n",
       "2          Jun 2, 2017  FAKE   \n",
       "3  September 14, 2017   REAL   \n",
       "4         Jun 19, 2017  FAKE   \n",
       "\n",
       "                                         clean_title  \n",
       "0  newsflash imperial president state refuse iran...  \n",
       "1  factbox reaction speech myanmar suu kyi violen...  \n",
       "2  radical intolerant student hold college admini...  \n",
       "3  japan suga government strongly protest late n ...  \n",
       "4  cnns jim acosta go bonkers wave hand camera se...  "
      ]
     },
     "execution_count": 13,
     "metadata": {},
     "output_type": "execute_result"
    }
   ],
   "source": [
    "# cleaning title\n",
    "df['clean_title'] = df['title'].apply(lambda x: normalize_document(x)) # normalize text\n",
    "df['clean_title'] = df['clean_title'].apply(lambda x: remove_stop(x)) # remove stopwords\n",
    "df['clean_title'] = df['clean_title'].apply(lambda x: lemmatize(x)) # lemmatize text\n",
    "df.head()\n"
   ]
  },
  {
   "cell_type": "code",
   "execution_count": 14,
   "metadata": {},
   "outputs": [
    {
     "data": {
      "text/html": [
       "<div>\n",
       "<style scoped>\n",
       "    .dataframe tbody tr th:only-of-type {\n",
       "        vertical-align: middle;\n",
       "    }\n",
       "\n",
       "    .dataframe tbody tr th {\n",
       "        vertical-align: top;\n",
       "    }\n",
       "\n",
       "    .dataframe thead th {\n",
       "        text-align: right;\n",
       "    }\n",
       "</style>\n",
       "<table border=\"1\" class=\"dataframe\">\n",
       "  <thead>\n",
       "    <tr style=\"text-align: right;\">\n",
       "      <th></th>\n",
       "      <th>Unnamed: 0.1</th>\n",
       "      <th>Unnamed: 0</th>\n",
       "      <th>title</th>\n",
       "      <th>text</th>\n",
       "      <th>subject</th>\n",
       "      <th>date</th>\n",
       "      <th>label</th>\n",
       "      <th>clean_title</th>\n",
       "      <th>clean_text</th>\n",
       "    </tr>\n",
       "  </thead>\n",
       "  <tbody>\n",
       "    <tr>\n",
       "      <th>0</th>\n",
       "      <td>4218.0</td>\n",
       "      <td>15432</td>\n",
       "      <td>NEWSFLASH FOR OUR IMPERIAL PRESIDENT: STATES C...</td>\n",
       "      <td>As Barack Hussein Obama tours around the count...</td>\n",
       "      <td>politics</td>\n",
       "      <td>Jul 23, 2015</td>\n",
       "      <td>FAKE</td>\n",
       "      <td>newsflash imperial president state refuse iran...</td>\n",
       "      <td>barack hussein obama tour country try convince...</td>\n",
       "    </tr>\n",
       "    <tr>\n",
       "      <th>1</th>\n",
       "      <td>3828.0</td>\n",
       "      <td>19686</td>\n",
       "      <td>Factbox: Reactions to speech by Myanmar's Suu ...</td>\n",
       "      <td>NAYPYITAW (Reuters) - Myanmar leader Aung San ...</td>\n",
       "      <td>worldnews</td>\n",
       "      <td>September 19, 2017</td>\n",
       "      <td>REAL</td>\n",
       "      <td>factbox reaction speech myanmar suu kyi violen...</td>\n",
       "      <td>naypyitaw reuters myanmar leader aung san suu ...</td>\n",
       "    </tr>\n",
       "    <tr>\n",
       "      <th>2</th>\n",
       "      <td>9288.0</td>\n",
       "      <td>10721</td>\n",
       "      <td>RADICAL, INTOLERANT Students Held College Admi...</td>\n",
       "      <td>Video from inside Evergreen State College cont...</td>\n",
       "      <td>politics</td>\n",
       "      <td>Jun 2, 2017</td>\n",
       "      <td>FAKE</td>\n",
       "      <td>radical intolerant student hold college admini...</td>\n",
       "      <td>video inside evergreen state college continue ...</td>\n",
       "    </tr>\n",
       "    <tr>\n",
       "      <th>3</th>\n",
       "      <td>11577.0</td>\n",
       "      <td>20031</td>\n",
       "      <td>Japan's Suga: government strongly protests lat...</td>\n",
       "      <td>TOKYO (Reuters) - North Korea fired a ballisti...</td>\n",
       "      <td>worldnews</td>\n",
       "      <td>September 14, 2017</td>\n",
       "      <td>REAL</td>\n",
       "      <td>japan suga government strongly protest late n ...</td>\n",
       "      <td>tokyo reuters north korea fire ballistic missi...</td>\n",
       "    </tr>\n",
       "    <tr>\n",
       "      <th>4</th>\n",
       "      <td>8869.0</td>\n",
       "      <td>10577</td>\n",
       "      <td>CNN’s Jim Acosta Goes Bonkers Waving His Hands...</td>\n",
       "      <td>Watch Jim Acosta wave his hands around and hav...</td>\n",
       "      <td>politics</td>\n",
       "      <td>Jun 19, 2017</td>\n",
       "      <td>FAKE</td>\n",
       "      <td>cnns jim acosta go bonkers wave hand camera se...</td>\n",
       "      <td>watch jim acosta wave hand temper tantrum air ...</td>\n",
       "    </tr>\n",
       "  </tbody>\n",
       "</table>\n",
       "</div>"
      ],
      "text/plain": [
       "   Unnamed: 0.1  Unnamed: 0  \\\n",
       "0        4218.0       15432   \n",
       "1        3828.0       19686   \n",
       "2        9288.0       10721   \n",
       "3       11577.0       20031   \n",
       "4        8869.0       10577   \n",
       "\n",
       "                                               title  \\\n",
       "0  NEWSFLASH FOR OUR IMPERIAL PRESIDENT: STATES C...   \n",
       "1  Factbox: Reactions to speech by Myanmar's Suu ...   \n",
       "2  RADICAL, INTOLERANT Students Held College Admi...   \n",
       "3  Japan's Suga: government strongly protests lat...   \n",
       "4  CNN’s Jim Acosta Goes Bonkers Waving His Hands...   \n",
       "\n",
       "                                                text    subject  \\\n",
       "0  As Barack Hussein Obama tours around the count...   politics   \n",
       "1  NAYPYITAW (Reuters) - Myanmar leader Aung San ...  worldnews   \n",
       "2  Video from inside Evergreen State College cont...   politics   \n",
       "3  TOKYO (Reuters) - North Korea fired a ballisti...  worldnews   \n",
       "4  Watch Jim Acosta wave his hands around and hav...   politics   \n",
       "\n",
       "                  date label  \\\n",
       "0         Jul 23, 2015  FAKE   \n",
       "1  September 19, 2017   REAL   \n",
       "2          Jun 2, 2017  FAKE   \n",
       "3  September 14, 2017   REAL   \n",
       "4         Jun 19, 2017  FAKE   \n",
       "\n",
       "                                         clean_title  \\\n",
       "0  newsflash imperial president state refuse iran...   \n",
       "1  factbox reaction speech myanmar suu kyi violen...   \n",
       "2  radical intolerant student hold college admini...   \n",
       "3  japan suga government strongly protest late n ...   \n",
       "4  cnns jim acosta go bonkers wave hand camera se...   \n",
       "\n",
       "                                          clean_text  \n",
       "0  barack hussein obama tour country try convince...  \n",
       "1  naypyitaw reuters myanmar leader aung san suu ...  \n",
       "2  video inside evergreen state college continue ...  \n",
       "3  tokyo reuters north korea fire ballistic missi...  \n",
       "4  watch jim acosta wave hand temper tantrum air ...  "
      ]
     },
     "execution_count": 14,
     "metadata": {},
     "output_type": "execute_result"
    }
   ],
   "source": [
    "# cleaning text\n",
    "df['clean_text'] = df['text'].apply(lambda x: normalize_document(x)) # normalize text\n",
    "df['clean_text'] = df['clean_text'].apply(lambda x: remove_stop(x)) # remove stopwords\n",
    "df['clean_text'] = df['clean_text'].apply(lambda x: lemmatize(x)) # lemmatize text\n",
    "df.head()"
   ]
  },
  {
   "cell_type": "code",
   "execution_count": 15,
   "metadata": {},
   "outputs": [
    {
     "data": {
      "text/html": [
       "<div>\n",
       "<style scoped>\n",
       "    .dataframe tbody tr th:only-of-type {\n",
       "        vertical-align: middle;\n",
       "    }\n",
       "\n",
       "    .dataframe tbody tr th {\n",
       "        vertical-align: top;\n",
       "    }\n",
       "\n",
       "    .dataframe thead th {\n",
       "        text-align: right;\n",
       "    }\n",
       "</style>\n",
       "<table border=\"1\" class=\"dataframe\">\n",
       "  <thead>\n",
       "    <tr style=\"text-align: right;\">\n",
       "      <th></th>\n",
       "      <th>Unnamed: 0.1</th>\n",
       "      <th>Unnamed: 0</th>\n",
       "      <th>title</th>\n",
       "      <th>text</th>\n",
       "      <th>subject</th>\n",
       "      <th>date</th>\n",
       "      <th>label</th>\n",
       "      <th>clean_title</th>\n",
       "      <th>clean_text</th>\n",
       "    </tr>\n",
       "  </thead>\n",
       "  <tbody>\n",
       "    <tr>\n",
       "      <th>0</th>\n",
       "      <td>4218.0</td>\n",
       "      <td>15432</td>\n",
       "      <td>NEWSFLASH FOR OUR IMPERIAL PRESIDENT: STATES C...</td>\n",
       "      <td>As Barack Hussein Obama tours around the count...</td>\n",
       "      <td>politics</td>\n",
       "      <td>Jul 23, 2015</td>\n",
       "      <td>1</td>\n",
       "      <td>newsflash imperial president state refuse iran...</td>\n",
       "      <td>barack hussein obama tour country try convince...</td>\n",
       "    </tr>\n",
       "    <tr>\n",
       "      <th>1</th>\n",
       "      <td>3828.0</td>\n",
       "      <td>19686</td>\n",
       "      <td>Factbox: Reactions to speech by Myanmar's Suu ...</td>\n",
       "      <td>NAYPYITAW (Reuters) - Myanmar leader Aung San ...</td>\n",
       "      <td>worldnews</td>\n",
       "      <td>September 19, 2017</td>\n",
       "      <td>0</td>\n",
       "      <td>factbox reaction speech myanmar suu kyi violen...</td>\n",
       "      <td>naypyitaw reuters myanmar leader aung san suu ...</td>\n",
       "    </tr>\n",
       "    <tr>\n",
       "      <th>2</th>\n",
       "      <td>9288.0</td>\n",
       "      <td>10721</td>\n",
       "      <td>RADICAL, INTOLERANT Students Held College Admi...</td>\n",
       "      <td>Video from inside Evergreen State College cont...</td>\n",
       "      <td>politics</td>\n",
       "      <td>Jun 2, 2017</td>\n",
       "      <td>1</td>\n",
       "      <td>radical intolerant student hold college admini...</td>\n",
       "      <td>video inside evergreen state college continue ...</td>\n",
       "    </tr>\n",
       "    <tr>\n",
       "      <th>3</th>\n",
       "      <td>11577.0</td>\n",
       "      <td>20031</td>\n",
       "      <td>Japan's Suga: government strongly protests lat...</td>\n",
       "      <td>TOKYO (Reuters) - North Korea fired a ballisti...</td>\n",
       "      <td>worldnews</td>\n",
       "      <td>September 14, 2017</td>\n",
       "      <td>0</td>\n",
       "      <td>japan suga government strongly protest late n ...</td>\n",
       "      <td>tokyo reuters north korea fire ballistic missi...</td>\n",
       "    </tr>\n",
       "    <tr>\n",
       "      <th>4</th>\n",
       "      <td>8869.0</td>\n",
       "      <td>10577</td>\n",
       "      <td>CNN’s Jim Acosta Goes Bonkers Waving His Hands...</td>\n",
       "      <td>Watch Jim Acosta wave his hands around and hav...</td>\n",
       "      <td>politics</td>\n",
       "      <td>Jun 19, 2017</td>\n",
       "      <td>1</td>\n",
       "      <td>cnns jim acosta go bonkers wave hand camera se...</td>\n",
       "      <td>watch jim acosta wave hand temper tantrum air ...</td>\n",
       "    </tr>\n",
       "  </tbody>\n",
       "</table>\n",
       "</div>"
      ],
      "text/plain": [
       "   Unnamed: 0.1  Unnamed: 0  \\\n",
       "0        4218.0       15432   \n",
       "1        3828.0       19686   \n",
       "2        9288.0       10721   \n",
       "3       11577.0       20031   \n",
       "4        8869.0       10577   \n",
       "\n",
       "                                               title  \\\n",
       "0  NEWSFLASH FOR OUR IMPERIAL PRESIDENT: STATES C...   \n",
       "1  Factbox: Reactions to speech by Myanmar's Suu ...   \n",
       "2  RADICAL, INTOLERANT Students Held College Admi...   \n",
       "3  Japan's Suga: government strongly protests lat...   \n",
       "4  CNN’s Jim Acosta Goes Bonkers Waving His Hands...   \n",
       "\n",
       "                                                text    subject  \\\n",
       "0  As Barack Hussein Obama tours around the count...   politics   \n",
       "1  NAYPYITAW (Reuters) - Myanmar leader Aung San ...  worldnews   \n",
       "2  Video from inside Evergreen State College cont...   politics   \n",
       "3  TOKYO (Reuters) - North Korea fired a ballisti...  worldnews   \n",
       "4  Watch Jim Acosta wave his hands around and hav...   politics   \n",
       "\n",
       "                  date  label  \\\n",
       "0         Jul 23, 2015      1   \n",
       "1  September 19, 2017       0   \n",
       "2          Jun 2, 2017      1   \n",
       "3  September 14, 2017       0   \n",
       "4         Jun 19, 2017      1   \n",
       "\n",
       "                                         clean_title  \\\n",
       "0  newsflash imperial president state refuse iran...   \n",
       "1  factbox reaction speech myanmar suu kyi violen...   \n",
       "2  radical intolerant student hold college admini...   \n",
       "3  japan suga government strongly protest late n ...   \n",
       "4  cnns jim acosta go bonkers wave hand camera se...   \n",
       "\n",
       "                                          clean_text  \n",
       "0  barack hussein obama tour country try convince...  \n",
       "1  naypyitaw reuters myanmar leader aung san suu ...  \n",
       "2  video inside evergreen state college continue ...  \n",
       "3  tokyo reuters north korea fire ballistic missi...  \n",
       "4  watch jim acosta wave hand temper tantrum air ...  "
      ]
     },
     "execution_count": 15,
     "metadata": {},
     "output_type": "execute_result"
    }
   ],
   "source": [
    "# turning the label to int\n",
    "df['label'] = (df.label == 'FAKE').astype(int)\n",
    "df.head()"
   ]
  },
  {
   "cell_type": "markdown",
   "metadata": {},
   "source": [
    "Splitting data into train and validation set"
   ]
  },
  {
   "cell_type": "code",
   "execution_count": 16,
   "metadata": {},
   "outputs": [],
   "source": [
    "#split to get test set\n",
    "df_train, df_val = train_test_split(df, test_size=0.2, random_state=1)"
   ]
  },
  {
   "cell_type": "code",
   "execution_count": 17,
   "metadata": {},
   "outputs": [],
   "source": [
    "#creating the label\n",
    "y_train = df_train.label.values\n",
    "y_val = df_val.label.values"
   ]
  },
  {
   "cell_type": "code",
   "execution_count": 18,
   "metadata": {},
   "outputs": [
    {
     "name": "stdout",
     "output_type": "stream",
     "text": [
      "(19240, 9)\n",
      "(19240,)\n",
      "(4811, 9)\n",
      "(4811,)\n"
     ]
    },
    {
     "data": {
      "text/plain": [
       "(None, None, None, None)"
      ]
     },
     "execution_count": 18,
     "metadata": {},
     "output_type": "execute_result"
    }
   ],
   "source": [
    "print(df_train.shape), print(y_train.shape), print(df_val.shape), print(y_val.shape)"
   ]
  },
  {
   "cell_type": "markdown",
   "metadata": {},
   "source": [
    "Encoding text data & feature engineering"
   ]
  },
  {
   "cell_type": "code",
   "execution_count": 19,
   "metadata": {},
   "outputs": [],
   "source": [
    "#creating a function for encoding text data\n",
    "def transform_text(data):\n",
    "    #transforming with count vectorizer\n",
    "    vectorizer = CountVectorizer()\n",
    "    vectorizer.fit(df_train['clean_title'])\n",
    "    cv = vectorizer.transform(data.clean_title)\n",
    "    return cv"
   ]
  },
  {
   "cell_type": "code",
   "execution_count": 20,
   "metadata": {},
   "outputs": [
    {
     "name": "stdout",
     "output_type": "stream",
     "text": [
      "(19240, 15806)\n"
     ]
    }
   ],
   "source": [
    "#transforming train data\n",
    "train_data = transform_text(df_train)\n",
    "print(train_data.shape)"
   ]
  },
  {
   "cell_type": "code",
   "execution_count": 21,
   "metadata": {},
   "outputs": [
    {
     "name": "stdout",
     "output_type": "stream",
     "text": [
      "(4811, 15806)\n"
     ]
    }
   ],
   "source": [
    "#transforming validation data\n",
    "val_data = transform_text(df_val)\n",
    "print(val_data.shape)"
   ]
  },
  {
   "cell_type": "markdown",
   "metadata": {},
   "source": [
    "Model training and testing"
   ]
  },
  {
   "cell_type": "markdown",
   "metadata": {},
   "source": [
    "1. Logistic Regression"
   ]
  },
  {
   "cell_type": "code",
   "execution_count": 22,
   "metadata": {},
   "outputs": [
    {
     "data": {
      "text/html": [
       "<style>#sk-container-id-1 {color: black;background-color: white;}#sk-container-id-1 pre{padding: 0;}#sk-container-id-1 div.sk-toggleable {background-color: white;}#sk-container-id-1 label.sk-toggleable__label {cursor: pointer;display: block;width: 100%;margin-bottom: 0;padding: 0.3em;box-sizing: border-box;text-align: center;}#sk-container-id-1 label.sk-toggleable__label-arrow:before {content: \"▸\";float: left;margin-right: 0.25em;color: #696969;}#sk-container-id-1 label.sk-toggleable__label-arrow:hover:before {color: black;}#sk-container-id-1 div.sk-estimator:hover label.sk-toggleable__label-arrow:before {color: black;}#sk-container-id-1 div.sk-toggleable__content {max-height: 0;max-width: 0;overflow: hidden;text-align: left;background-color: #f0f8ff;}#sk-container-id-1 div.sk-toggleable__content pre {margin: 0.2em;color: black;border-radius: 0.25em;background-color: #f0f8ff;}#sk-container-id-1 input.sk-toggleable__control:checked~div.sk-toggleable__content {max-height: 200px;max-width: 100%;overflow: auto;}#sk-container-id-1 input.sk-toggleable__control:checked~label.sk-toggleable__label-arrow:before {content: \"▾\";}#sk-container-id-1 div.sk-estimator input.sk-toggleable__control:checked~label.sk-toggleable__label {background-color: #d4ebff;}#sk-container-id-1 div.sk-label input.sk-toggleable__control:checked~label.sk-toggleable__label {background-color: #d4ebff;}#sk-container-id-1 input.sk-hidden--visually {border: 0;clip: rect(1px 1px 1px 1px);clip: rect(1px, 1px, 1px, 1px);height: 1px;margin: -1px;overflow: hidden;padding: 0;position: absolute;width: 1px;}#sk-container-id-1 div.sk-estimator {font-family: monospace;background-color: #f0f8ff;border: 1px dotted black;border-radius: 0.25em;box-sizing: border-box;margin-bottom: 0.5em;}#sk-container-id-1 div.sk-estimator:hover {background-color: #d4ebff;}#sk-container-id-1 div.sk-parallel-item::after {content: \"\";width: 100%;border-bottom: 1px solid gray;flex-grow: 1;}#sk-container-id-1 div.sk-label:hover label.sk-toggleable__label {background-color: #d4ebff;}#sk-container-id-1 div.sk-serial::before {content: \"\";position: absolute;border-left: 1px solid gray;box-sizing: border-box;top: 0;bottom: 0;left: 50%;z-index: 0;}#sk-container-id-1 div.sk-serial {display: flex;flex-direction: column;align-items: center;background-color: white;padding-right: 0.2em;padding-left: 0.2em;position: relative;}#sk-container-id-1 div.sk-item {position: relative;z-index: 1;}#sk-container-id-1 div.sk-parallel {display: flex;align-items: stretch;justify-content: center;background-color: white;position: relative;}#sk-container-id-1 div.sk-item::before, #sk-container-id-1 div.sk-parallel-item::before {content: \"\";position: absolute;border-left: 1px solid gray;box-sizing: border-box;top: 0;bottom: 0;left: 50%;z-index: -1;}#sk-container-id-1 div.sk-parallel-item {display: flex;flex-direction: column;z-index: 1;position: relative;background-color: white;}#sk-container-id-1 div.sk-parallel-item:first-child::after {align-self: flex-end;width: 50%;}#sk-container-id-1 div.sk-parallel-item:last-child::after {align-self: flex-start;width: 50%;}#sk-container-id-1 div.sk-parallel-item:only-child::after {width: 0;}#sk-container-id-1 div.sk-dashed-wrapped {border: 1px dashed gray;margin: 0 0.4em 0.5em 0.4em;box-sizing: border-box;padding-bottom: 0.4em;background-color: white;}#sk-container-id-1 div.sk-label label {font-family: monospace;font-weight: bold;display: inline-block;line-height: 1.2em;}#sk-container-id-1 div.sk-label-container {text-align: center;}#sk-container-id-1 div.sk-container {/* jupyter's `normalize.less` sets `[hidden] { display: none; }` but bootstrap.min.css set `[hidden] { display: none !important; }` so we also need the `!important` here to be able to override the default hidden behavior on the sphinx rendered scikit-learn.org. See: https://github.com/scikit-learn/scikit-learn/issues/21755 */display: inline-block !important;position: relative;}#sk-container-id-1 div.sk-text-repr-fallback {display: none;}</style><div id=\"sk-container-id-1\" class=\"sk-top-container\"><div class=\"sk-text-repr-fallback\"><pre>LogisticRegression(max_iter=500)</pre><b>In a Jupyter environment, please rerun this cell to show the HTML representation or trust the notebook. <br />On GitHub, the HTML representation is unable to render, please try loading this page with nbviewer.org.</b></div><div class=\"sk-container\" hidden><div class=\"sk-item\"><div class=\"sk-estimator sk-toggleable\"><input class=\"sk-toggleable__control sk-hidden--visually\" id=\"sk-estimator-id-1\" type=\"checkbox\" checked><label for=\"sk-estimator-id-1\" class=\"sk-toggleable__label sk-toggleable__label-arrow\">LogisticRegression</label><div class=\"sk-toggleable__content\"><pre>LogisticRegression(max_iter=500)</pre></div></div></div></div></div>"
      ],
      "text/plain": [
       "LogisticRegression(max_iter=500)"
      ]
     },
     "execution_count": 22,
     "metadata": {},
     "output_type": "execute_result"
    }
   ],
   "source": [
    "from sklearn.linear_model import LogisticRegression\n",
    "lr = LogisticRegression(max_iter=500, solver='lbfgs')\n",
    "lr.fit(train_data, y_train) #fitting  model"
   ]
  },
  {
   "cell_type": "code",
   "execution_count": 23,
   "metadata": {},
   "outputs": [],
   "source": [
    "#predicting \n",
    "y_pred = lr.predict(val_data)#predicting validation values\n",
    "train_pred = lr.predict(train_data)#predicting train values"
   ]
  },
  {
   "cell_type": "code",
   "execution_count": 24,
   "metadata": {},
   "outputs": [
    {
     "name": "stdout",
     "output_type": "stream",
     "text": [
      "train results\n",
      "              precision    recall  f1-score   support\n",
      "\n",
      "           0       0.97      0.98      0.98      9872\n",
      "           1       0.98      0.97      0.98      9368\n",
      "\n",
      "    accuracy                           0.98     19240\n",
      "   macro avg       0.98      0.98      0.98     19240\n",
      "weighted avg       0.98      0.98      0.98     19240\n",
      "\n",
      "accuracy - 0.9765592515592516\n",
      " \n",
      "Validation results\n",
      "              precision    recall  f1-score   support\n",
      "\n",
      "           0       0.91      0.95      0.93      2431\n",
      "           1       0.95      0.90      0.93      2380\n",
      "\n",
      "    accuracy                           0.93      4811\n",
      "   macro avg       0.93      0.93      0.93      4811\n",
      "weighted avg       0.93      0.93      0.93      4811\n",
      "\n",
      "accuracy - 0.9289129079193514\n"
     ]
    }
   ],
   "source": [
    "# evaluation\n",
    "print('train results')\n",
    "print(classification_report(y_train,train_pred))\n",
    "print(f'accuracy - {accuracy_score(y_train,train_pred)}')\n",
    "print(' ')\n",
    "print('Validation results')\n",
    "print(classification_report(y_val,y_pred))\n",
    "print(f'accuracy - {accuracy_score(y_val,y_pred)}')"
   ]
  },
  {
   "cell_type": "markdown",
   "metadata": {},
   "source": [
    "2. Decision Trees"
   ]
  },
  {
   "cell_type": "code",
   "execution_count": 25,
   "metadata": {},
   "outputs": [
    {
     "data": {
      "text/html": [
       "<style>#sk-container-id-2 {color: black;background-color: white;}#sk-container-id-2 pre{padding: 0;}#sk-container-id-2 div.sk-toggleable {background-color: white;}#sk-container-id-2 label.sk-toggleable__label {cursor: pointer;display: block;width: 100%;margin-bottom: 0;padding: 0.3em;box-sizing: border-box;text-align: center;}#sk-container-id-2 label.sk-toggleable__label-arrow:before {content: \"▸\";float: left;margin-right: 0.25em;color: #696969;}#sk-container-id-2 label.sk-toggleable__label-arrow:hover:before {color: black;}#sk-container-id-2 div.sk-estimator:hover label.sk-toggleable__label-arrow:before {color: black;}#sk-container-id-2 div.sk-toggleable__content {max-height: 0;max-width: 0;overflow: hidden;text-align: left;background-color: #f0f8ff;}#sk-container-id-2 div.sk-toggleable__content pre {margin: 0.2em;color: black;border-radius: 0.25em;background-color: #f0f8ff;}#sk-container-id-2 input.sk-toggleable__control:checked~div.sk-toggleable__content {max-height: 200px;max-width: 100%;overflow: auto;}#sk-container-id-2 input.sk-toggleable__control:checked~label.sk-toggleable__label-arrow:before {content: \"▾\";}#sk-container-id-2 div.sk-estimator input.sk-toggleable__control:checked~label.sk-toggleable__label {background-color: #d4ebff;}#sk-container-id-2 div.sk-label input.sk-toggleable__control:checked~label.sk-toggleable__label {background-color: #d4ebff;}#sk-container-id-2 input.sk-hidden--visually {border: 0;clip: rect(1px 1px 1px 1px);clip: rect(1px, 1px, 1px, 1px);height: 1px;margin: -1px;overflow: hidden;padding: 0;position: absolute;width: 1px;}#sk-container-id-2 div.sk-estimator {font-family: monospace;background-color: #f0f8ff;border: 1px dotted black;border-radius: 0.25em;box-sizing: border-box;margin-bottom: 0.5em;}#sk-container-id-2 div.sk-estimator:hover {background-color: #d4ebff;}#sk-container-id-2 div.sk-parallel-item::after {content: \"\";width: 100%;border-bottom: 1px solid gray;flex-grow: 1;}#sk-container-id-2 div.sk-label:hover label.sk-toggleable__label {background-color: #d4ebff;}#sk-container-id-2 div.sk-serial::before {content: \"\";position: absolute;border-left: 1px solid gray;box-sizing: border-box;top: 0;bottom: 0;left: 50%;z-index: 0;}#sk-container-id-2 div.sk-serial {display: flex;flex-direction: column;align-items: center;background-color: white;padding-right: 0.2em;padding-left: 0.2em;position: relative;}#sk-container-id-2 div.sk-item {position: relative;z-index: 1;}#sk-container-id-2 div.sk-parallel {display: flex;align-items: stretch;justify-content: center;background-color: white;position: relative;}#sk-container-id-2 div.sk-item::before, #sk-container-id-2 div.sk-parallel-item::before {content: \"\";position: absolute;border-left: 1px solid gray;box-sizing: border-box;top: 0;bottom: 0;left: 50%;z-index: -1;}#sk-container-id-2 div.sk-parallel-item {display: flex;flex-direction: column;z-index: 1;position: relative;background-color: white;}#sk-container-id-2 div.sk-parallel-item:first-child::after {align-self: flex-end;width: 50%;}#sk-container-id-2 div.sk-parallel-item:last-child::after {align-self: flex-start;width: 50%;}#sk-container-id-2 div.sk-parallel-item:only-child::after {width: 0;}#sk-container-id-2 div.sk-dashed-wrapped {border: 1px dashed gray;margin: 0 0.4em 0.5em 0.4em;box-sizing: border-box;padding-bottom: 0.4em;background-color: white;}#sk-container-id-2 div.sk-label label {font-family: monospace;font-weight: bold;display: inline-block;line-height: 1.2em;}#sk-container-id-2 div.sk-label-container {text-align: center;}#sk-container-id-2 div.sk-container {/* jupyter's `normalize.less` sets `[hidden] { display: none; }` but bootstrap.min.css set `[hidden] { display: none !important; }` so we also need the `!important` here to be able to override the default hidden behavior on the sphinx rendered scikit-learn.org. See: https://github.com/scikit-learn/scikit-learn/issues/21755 */display: inline-block !important;position: relative;}#sk-container-id-2 div.sk-text-repr-fallback {display: none;}</style><div id=\"sk-container-id-2\" class=\"sk-top-container\"><div class=\"sk-text-repr-fallback\"><pre>DecisionTreeClassifier()</pre><b>In a Jupyter environment, please rerun this cell to show the HTML representation or trust the notebook. <br />On GitHub, the HTML representation is unable to render, please try loading this page with nbviewer.org.</b></div><div class=\"sk-container\" hidden><div class=\"sk-item\"><div class=\"sk-estimator sk-toggleable\"><input class=\"sk-toggleable__control sk-hidden--visually\" id=\"sk-estimator-id-2\" type=\"checkbox\" checked><label for=\"sk-estimator-id-2\" class=\"sk-toggleable__label sk-toggleable__label-arrow\">DecisionTreeClassifier</label><div class=\"sk-toggleable__content\"><pre>DecisionTreeClassifier()</pre></div></div></div></div></div>"
      ],
      "text/plain": [
       "DecisionTreeClassifier()"
      ]
     },
     "execution_count": 25,
     "metadata": {},
     "output_type": "execute_result"
    }
   ],
   "source": [
    "from sklearn.tree import DecisionTreeClassifier\n",
    "#training\n",
    "dt = DecisionTreeClassifier(min_samples_leaf=1)\n",
    "dt.fit(train_data, y_train)"
   ]
  },
  {
   "cell_type": "code",
   "execution_count": 26,
   "metadata": {},
   "outputs": [],
   "source": [
    "# predicting\n",
    "y_pred = dt.predict(val_data)\n",
    "train_pred = dt.predict(train_data)"
   ]
  },
  {
   "cell_type": "code",
   "execution_count": 27,
   "metadata": {},
   "outputs": [
    {
     "name": "stdout",
     "output_type": "stream",
     "text": [
      "train results\n",
      "              precision    recall  f1-score   support\n",
      "\n",
      "           0       1.00      1.00      1.00      9872\n",
      "           1       1.00      1.00      1.00      9368\n",
      "\n",
      "    accuracy                           1.00     19240\n",
      "   macro avg       1.00      1.00      1.00     19240\n",
      "weighted avg       1.00      1.00      1.00     19240\n",
      "\n",
      "accuracy - 1.0\n",
      " \n",
      "Validation results\n",
      "              precision    recall  f1-score   support\n",
      "\n",
      "           0       0.86      0.88      0.87      2431\n",
      "           1       0.88      0.86      0.87      2380\n",
      "\n",
      "    accuracy                           0.87      4811\n",
      "   macro avg       0.87      0.87      0.87      4811\n",
      "weighted avg       0.87      0.87      0.87      4811\n",
      "\n",
      "accuracy - 0.8702972355019747\n"
     ]
    }
   ],
   "source": [
    "# evaluation\n",
    "print('train results')\n",
    "print(classification_report(y_train,train_pred))\n",
    "print(f'accuracy - {accuracy_score(y_train,train_pred)}')\n",
    "print(' ')\n",
    "print('Validation results')\n",
    "print(classification_report(y_val,y_pred))\n",
    "print(f'accuracy - {accuracy_score(y_val,y_pred)}')"
   ]
  },
  {
   "cell_type": "markdown",
   "metadata": {},
   "source": [
    "3. Random Forest"
   ]
  },
  {
   "cell_type": "code",
   "execution_count": 28,
   "metadata": {},
   "outputs": [
    {
     "data": {
      "text/html": [
       "<style>#sk-container-id-3 {color: black;background-color: white;}#sk-container-id-3 pre{padding: 0;}#sk-container-id-3 div.sk-toggleable {background-color: white;}#sk-container-id-3 label.sk-toggleable__label {cursor: pointer;display: block;width: 100%;margin-bottom: 0;padding: 0.3em;box-sizing: border-box;text-align: center;}#sk-container-id-3 label.sk-toggleable__label-arrow:before {content: \"▸\";float: left;margin-right: 0.25em;color: #696969;}#sk-container-id-3 label.sk-toggleable__label-arrow:hover:before {color: black;}#sk-container-id-3 div.sk-estimator:hover label.sk-toggleable__label-arrow:before {color: black;}#sk-container-id-3 div.sk-toggleable__content {max-height: 0;max-width: 0;overflow: hidden;text-align: left;background-color: #f0f8ff;}#sk-container-id-3 div.sk-toggleable__content pre {margin: 0.2em;color: black;border-radius: 0.25em;background-color: #f0f8ff;}#sk-container-id-3 input.sk-toggleable__control:checked~div.sk-toggleable__content {max-height: 200px;max-width: 100%;overflow: auto;}#sk-container-id-3 input.sk-toggleable__control:checked~label.sk-toggleable__label-arrow:before {content: \"▾\";}#sk-container-id-3 div.sk-estimator input.sk-toggleable__control:checked~label.sk-toggleable__label {background-color: #d4ebff;}#sk-container-id-3 div.sk-label input.sk-toggleable__control:checked~label.sk-toggleable__label {background-color: #d4ebff;}#sk-container-id-3 input.sk-hidden--visually {border: 0;clip: rect(1px 1px 1px 1px);clip: rect(1px, 1px, 1px, 1px);height: 1px;margin: -1px;overflow: hidden;padding: 0;position: absolute;width: 1px;}#sk-container-id-3 div.sk-estimator {font-family: monospace;background-color: #f0f8ff;border: 1px dotted black;border-radius: 0.25em;box-sizing: border-box;margin-bottom: 0.5em;}#sk-container-id-3 div.sk-estimator:hover {background-color: #d4ebff;}#sk-container-id-3 div.sk-parallel-item::after {content: \"\";width: 100%;border-bottom: 1px solid gray;flex-grow: 1;}#sk-container-id-3 div.sk-label:hover label.sk-toggleable__label {background-color: #d4ebff;}#sk-container-id-3 div.sk-serial::before {content: \"\";position: absolute;border-left: 1px solid gray;box-sizing: border-box;top: 0;bottom: 0;left: 50%;z-index: 0;}#sk-container-id-3 div.sk-serial {display: flex;flex-direction: column;align-items: center;background-color: white;padding-right: 0.2em;padding-left: 0.2em;position: relative;}#sk-container-id-3 div.sk-item {position: relative;z-index: 1;}#sk-container-id-3 div.sk-parallel {display: flex;align-items: stretch;justify-content: center;background-color: white;position: relative;}#sk-container-id-3 div.sk-item::before, #sk-container-id-3 div.sk-parallel-item::before {content: \"\";position: absolute;border-left: 1px solid gray;box-sizing: border-box;top: 0;bottom: 0;left: 50%;z-index: -1;}#sk-container-id-3 div.sk-parallel-item {display: flex;flex-direction: column;z-index: 1;position: relative;background-color: white;}#sk-container-id-3 div.sk-parallel-item:first-child::after {align-self: flex-end;width: 50%;}#sk-container-id-3 div.sk-parallel-item:last-child::after {align-self: flex-start;width: 50%;}#sk-container-id-3 div.sk-parallel-item:only-child::after {width: 0;}#sk-container-id-3 div.sk-dashed-wrapped {border: 1px dashed gray;margin: 0 0.4em 0.5em 0.4em;box-sizing: border-box;padding-bottom: 0.4em;background-color: white;}#sk-container-id-3 div.sk-label label {font-family: monospace;font-weight: bold;display: inline-block;line-height: 1.2em;}#sk-container-id-3 div.sk-label-container {text-align: center;}#sk-container-id-3 div.sk-container {/* jupyter's `normalize.less` sets `[hidden] { display: none; }` but bootstrap.min.css set `[hidden] { display: none !important; }` so we also need the `!important` here to be able to override the default hidden behavior on the sphinx rendered scikit-learn.org. See: https://github.com/scikit-learn/scikit-learn/issues/21755 */display: inline-block !important;position: relative;}#sk-container-id-3 div.sk-text-repr-fallback {display: none;}</style><div id=\"sk-container-id-3\" class=\"sk-top-container\"><div class=\"sk-text-repr-fallback\"><pre>RandomForestClassifier(max_depth=1500, n_estimators=50, random_state=1)</pre><b>In a Jupyter environment, please rerun this cell to show the HTML representation or trust the notebook. <br />On GitHub, the HTML representation is unable to render, please try loading this page with nbviewer.org.</b></div><div class=\"sk-container\" hidden><div class=\"sk-item\"><div class=\"sk-estimator sk-toggleable\"><input class=\"sk-toggleable__control sk-hidden--visually\" id=\"sk-estimator-id-3\" type=\"checkbox\" checked><label for=\"sk-estimator-id-3\" class=\"sk-toggleable__label sk-toggleable__label-arrow\">RandomForestClassifier</label><div class=\"sk-toggleable__content\"><pre>RandomForestClassifier(max_depth=1500, n_estimators=50, random_state=1)</pre></div></div></div></div></div>"
      ],
      "text/plain": [
       "RandomForestClassifier(max_depth=1500, n_estimators=50, random_state=1)"
      ]
     },
     "execution_count": 28,
     "metadata": {},
     "output_type": "execute_result"
    }
   ],
   "source": [
    "# training\n",
    "from sklearn.ensemble import RandomForestClassifier\n",
    "rf = RandomForestClassifier(n_estimators=50, max_depth=1500, random_state=1)\n",
    "rf.fit(train_data, y_train)"
   ]
  },
  {
   "cell_type": "code",
   "execution_count": 29,
   "metadata": {},
   "outputs": [],
   "source": [
    "# predicting\n",
    "y_pred = rf.predict(val_data)\n",
    "train_pred = rf.predict(train_data)"
   ]
  },
  {
   "cell_type": "code",
   "execution_count": 30,
   "metadata": {},
   "outputs": [
    {
     "name": "stdout",
     "output_type": "stream",
     "text": [
      "train results\n",
      "              precision    recall  f1-score   support\n",
      "\n",
      "           0       1.00      1.00      1.00      9872\n",
      "           1       1.00      1.00      1.00      9368\n",
      "\n",
      "    accuracy                           1.00     19240\n",
      "   macro avg       1.00      1.00      1.00     19240\n",
      "weighted avg       1.00      1.00      1.00     19240\n",
      "\n",
      "accuracy - 0.9996881496881497\n",
      " \n",
      "Validation results\n",
      "              precision    recall  f1-score   support\n",
      "\n",
      "           0       0.87      0.95      0.91      2431\n",
      "           1       0.95      0.86      0.90      2380\n",
      "\n",
      "    accuracy                           0.91      4811\n",
      "   macro avg       0.91      0.91      0.91      4811\n",
      "weighted avg       0.91      0.91      0.91      4811\n",
      "\n",
      "accuracy - 0.9064643525254625\n",
      "f1 score - 0.9009683098591549\n"
     ]
    }
   ],
   "source": [
    "# evaluation\n",
    "print('train results')\n",
    "print(classification_report(y_train,train_pred))\n",
    "print(f'accuracy - {accuracy_score(y_train,train_pred)}')\n",
    "print(' ')\n",
    "print('Validation results')\n",
    "print(classification_report(y_val,y_pred))\n",
    "print(f'accuracy - {accuracy_score(y_val,y_pred)}')\n",
    "print(f'f1 score - {f1_score(y_val, y_pred)}')"
   ]
  },
  {
   "cell_type": "markdown",
   "metadata": {},
   "source": [
    "Experiment tracking"
   ]
  },
  {
   "cell_type": "code",
   "execution_count": 31,
   "metadata": {},
   "outputs": [
    {
     "data": {
      "text/plain": [
       "<Experiment: artifact_location='./mlruns/1', experiment_id='1', lifecycle_stage='active', name='course_project', tags={}>"
      ]
     },
     "execution_count": 31,
     "metadata": {},
     "output_type": "execute_result"
    }
   ],
   "source": [
    "import mlflow\n",
    "mlflow.set_tracking_uri(\"sqlite:///mlflow.db\")\n",
    "mlflow.set_experiment(\"course_project\")"
   ]
  },
  {
   "cell_type": "markdown",
   "metadata": {},
   "source": [
    "1. Experiment run for linear regression"
   ]
  },
  {
   "cell_type": "code",
   "execution_count": 32,
   "metadata": {},
   "outputs": [],
   "source": [
    "# experiment run for linear regression\n",
    "with mlflow.start_run():\n",
    "\n",
    "    # setting tag for model\n",
    "    mlflow.set_tag(\"model\", \"linear regression\")\n",
    "\n",
    "    # fitting the train data\n",
    "    lr.fit(train_data, y_train)\n",
    "\n",
    "    # validating data\n",
    "    y_pred = lr.predict(val_data)\n",
    "\n",
    "    # evaluation\n",
    "    f1 = f1_score(y_val, y_pred)\n",
    "    auc = roc_auc_score(y_val, y_pred)\n",
    "    accuracy = accuracy_score(y_val,y_pred)\n",
    "    # logging metrics\n",
    "    mlflow.log_metric(\"auc score\", auc)\n",
    "    mlflow.log_metric(\"f1 score\", f1)\n",
    "    mlflow.log_metric(\"accuracy\", accuracy)"
   ]
  },
  {
   "cell_type": "markdown",
   "metadata": {},
   "source": [
    "2. Hyperparameter tuning for Random Forest and Decision Trees"
   ]
  },
  {
   "cell_type": "code",
   "execution_count": 39,
   "metadata": {},
   "outputs": [],
   "source": [
    "from hyperopt import STATUS_OK, Trials, fmin, hp, tpe\n",
    "from hyperopt.pyll import scope\n",
    "from hyperopt import space_eval"
   ]
  },
  {
   "cell_type": "code",
   "execution_count": 40,
   "metadata": {},
   "outputs": [
    {
     "name": "stdout",
     "output_type": "stream",
     "text": [
      "100%|██████████| 50/50 [02:19<00:00,  2.79s/trial, best loss: -0.9071490845684393]\n",
      "{'max_depth': 700, 'min_samples_leaf': 1, 'min_samples_split': 9, 'n_estimators': 40, 'random_state': 42, 'type': 'rf'}\n"
     ]
    }
   ],
   "source": [
    "def run(num_trials):\n",
    "    def objective(params):\n",
    "            classifier_type = params['type'] # defining model type\n",
    "            del params['type'] # deleting model type from params dict\n",
    "            with mlflow.start_run():\n",
    "                if classifier_type == 'rf':\n",
    "                    mlflow.set_tag(\"model\", \"random forest\")\n",
    "                    mlflow.log_params(params)\n",
    "                    rf = RandomForestClassifier(**params)\n",
    "                    rf.fit(train_data, y_train)\n",
    "                    y_pred = rf.predict(val_data)\n",
    "                elif classifier_type == 'dt':\n",
    "                    mlflow.set_tag(\"model\", \"Decision trees\")\n",
    "                    mlflow.log_params(params)\n",
    "                    dt = DecisionTreeClassifier(**params)\n",
    "                    dt.fit(train_data, y_train)\n",
    "                    y_pred = dt.predict(val_data)\n",
    "                else:\n",
    "                    y_pred = 0\n",
    "\n",
    "                # evaluation\n",
    "                f1 = f1_score(y_val, y_pred)\n",
    "                auc = roc_auc_score(y_val, y_pred)\n",
    "                accuracy = accuracy_score(y_val,y_pred)\n",
    "                \n",
    "                # logging metrics\n",
    "                metrics = {\"auc score\": auc, \"f1 score\":f1, \"accuracy\":accuracy}\n",
    "                mlflow.log_metrics(metrics)\n",
    "            return {'loss': -f1, 'status': STATUS_OK}\n",
    "    # defining search space\n",
    "    search_space = hp.choice('classifier_type', [\n",
    "        {\n",
    "        'type': 'rf',\n",
    "        'max_depth': scope.int(hp.quniform('max_depth', 100, 800, 100)),\n",
    "        'n_estimators': scope.int(hp.quniform('n_estimators', 10, 50, 10)),\n",
    "        'min_samples_split': scope.int(hp.quniform('min_samples_split', 2, 10, 1)),\n",
    "        'min_samples_leaf': scope.int(hp.quniform('min_samples_leaf', 1, 4, 1)),\n",
    "        'random_state': 42\n",
    "        },\n",
    "        {\n",
    "        'type': 'dt',\n",
    "        'max_depth': scope.int(hp.quniform('max_depth_dt', 100, 800, 100)),\n",
    "        'min_samples_leaf': scope.int(hp.quniform('min_samples_leaf_dt', 1, 4, 1)),\n",
    "        'random_state': 42\n",
    "        }])\n",
    "\n",
    "    rstate = np.random.default_rng(42)  # for reproducible results\n",
    "    # creating the fmin function\n",
    "    best_result = fmin(\n",
    "                fn=objective,\n",
    "                space=search_space,\n",
    "                algo=tpe.suggest,\n",
    "                max_evals=num_trials,\n",
    "                trials=Trials(),\n",
    "                rstate=rstate\n",
    "                )\n",
    "    print(space_eval(search_space, best_result))\n",
    "\n",
    "run(50)"
   ]
  },
  {
   "cell_type": "markdown",
   "metadata": {},
   "source": [
    "Retraining and Autologging with the best model and parameters"
   ]
  },
  {
   "cell_type": "code",
   "execution_count": 41,
   "metadata": {},
   "outputs": [
    {
     "name": "stderr",
     "output_type": "stream",
     "text": [
      "2022/08/19 09:06:24 INFO mlflow.utils.autologging_utils: Created MLflow autologging run with ID 'd3a0fff7491647edb5445054e14c8125', which will track hyperparameters, performance metrics, model artifacts, and lineage information for the current sklearn workflow\n",
      "2022/08/19 09:06:31 WARNING mlflow.sklearn.utils: Failed to import matplotlib (error: ModuleNotFoundError(\"No module named 'matplotlib'\")). Skipping artifact logging.\n",
      "2022/08/19 09:06:34 WARNING mlflow.utils.autologging_utils: MLflow autologging encountered a warning: \"/home/ubuntu/anaconda3/envs/nlp_project/lib/python3.9/site-packages/_distutils_hack/__init__.py:30: UserWarning: Setuptools is replacing distutils.\"\n"
     ]
    },
    {
     "data": {
      "text/html": [
       "<style>#sk-container-id-4 {color: black;background-color: white;}#sk-container-id-4 pre{padding: 0;}#sk-container-id-4 div.sk-toggleable {background-color: white;}#sk-container-id-4 label.sk-toggleable__label {cursor: pointer;display: block;width: 100%;margin-bottom: 0;padding: 0.3em;box-sizing: border-box;text-align: center;}#sk-container-id-4 label.sk-toggleable__label-arrow:before {content: \"▸\";float: left;margin-right: 0.25em;color: #696969;}#sk-container-id-4 label.sk-toggleable__label-arrow:hover:before {color: black;}#sk-container-id-4 div.sk-estimator:hover label.sk-toggleable__label-arrow:before {color: black;}#sk-container-id-4 div.sk-toggleable__content {max-height: 0;max-width: 0;overflow: hidden;text-align: left;background-color: #f0f8ff;}#sk-container-id-4 div.sk-toggleable__content pre {margin: 0.2em;color: black;border-radius: 0.25em;background-color: #f0f8ff;}#sk-container-id-4 input.sk-toggleable__control:checked~div.sk-toggleable__content {max-height: 200px;max-width: 100%;overflow: auto;}#sk-container-id-4 input.sk-toggleable__control:checked~label.sk-toggleable__label-arrow:before {content: \"▾\";}#sk-container-id-4 div.sk-estimator input.sk-toggleable__control:checked~label.sk-toggleable__label {background-color: #d4ebff;}#sk-container-id-4 div.sk-label input.sk-toggleable__control:checked~label.sk-toggleable__label {background-color: #d4ebff;}#sk-container-id-4 input.sk-hidden--visually {border: 0;clip: rect(1px 1px 1px 1px);clip: rect(1px, 1px, 1px, 1px);height: 1px;margin: -1px;overflow: hidden;padding: 0;position: absolute;width: 1px;}#sk-container-id-4 div.sk-estimator {font-family: monospace;background-color: #f0f8ff;border: 1px dotted black;border-radius: 0.25em;box-sizing: border-box;margin-bottom: 0.5em;}#sk-container-id-4 div.sk-estimator:hover {background-color: #d4ebff;}#sk-container-id-4 div.sk-parallel-item::after {content: \"\";width: 100%;border-bottom: 1px solid gray;flex-grow: 1;}#sk-container-id-4 div.sk-label:hover label.sk-toggleable__label {background-color: #d4ebff;}#sk-container-id-4 div.sk-serial::before {content: \"\";position: absolute;border-left: 1px solid gray;box-sizing: border-box;top: 0;bottom: 0;left: 50%;z-index: 0;}#sk-container-id-4 div.sk-serial {display: flex;flex-direction: column;align-items: center;background-color: white;padding-right: 0.2em;padding-left: 0.2em;position: relative;}#sk-container-id-4 div.sk-item {position: relative;z-index: 1;}#sk-container-id-4 div.sk-parallel {display: flex;align-items: stretch;justify-content: center;background-color: white;position: relative;}#sk-container-id-4 div.sk-item::before, #sk-container-id-4 div.sk-parallel-item::before {content: \"\";position: absolute;border-left: 1px solid gray;box-sizing: border-box;top: 0;bottom: 0;left: 50%;z-index: -1;}#sk-container-id-4 div.sk-parallel-item {display: flex;flex-direction: column;z-index: 1;position: relative;background-color: white;}#sk-container-id-4 div.sk-parallel-item:first-child::after {align-self: flex-end;width: 50%;}#sk-container-id-4 div.sk-parallel-item:last-child::after {align-self: flex-start;width: 50%;}#sk-container-id-4 div.sk-parallel-item:only-child::after {width: 0;}#sk-container-id-4 div.sk-dashed-wrapped {border: 1px dashed gray;margin: 0 0.4em 0.5em 0.4em;box-sizing: border-box;padding-bottom: 0.4em;background-color: white;}#sk-container-id-4 div.sk-label label {font-family: monospace;font-weight: bold;display: inline-block;line-height: 1.2em;}#sk-container-id-4 div.sk-label-container {text-align: center;}#sk-container-id-4 div.sk-container {/* jupyter's `normalize.less` sets `[hidden] { display: none; }` but bootstrap.min.css set `[hidden] { display: none !important; }` so we also need the `!important` here to be able to override the default hidden behavior on the sphinx rendered scikit-learn.org. See: https://github.com/scikit-learn/scikit-learn/issues/21755 */display: inline-block !important;position: relative;}#sk-container-id-4 div.sk-text-repr-fallback {display: none;}</style><div id=\"sk-container-id-4\" class=\"sk-top-container\"><div class=\"sk-text-repr-fallback\"><pre>RandomForestClassifier(max_depth=700, min_samples_split=9, n_estimators=40,\n",
       "                       random_state=42)</pre><b>In a Jupyter environment, please rerun this cell to show the HTML representation or trust the notebook. <br />On GitHub, the HTML representation is unable to render, please try loading this page with nbviewer.org.</b></div><div class=\"sk-container\" hidden><div class=\"sk-item\"><div class=\"sk-estimator sk-toggleable\"><input class=\"sk-toggleable__control sk-hidden--visually\" id=\"sk-estimator-id-4\" type=\"checkbox\" checked><label for=\"sk-estimator-id-4\" class=\"sk-toggleable__label sk-toggleable__label-arrow\">RandomForestClassifier</label><div class=\"sk-toggleable__content\"><pre>RandomForestClassifier(max_depth=700, min_samples_split=9, n_estimators=40,\n",
       "                       random_state=42)</pre></div></div></div></div></div>"
      ],
      "text/plain": [
       "RandomForestClassifier(max_depth=700, min_samples_split=9, n_estimators=40,\n",
       "                       random_state=42)"
      ]
     },
     "execution_count": 41,
     "metadata": {},
     "output_type": "execute_result"
    }
   ],
   "source": [
    "best_params = {\n",
    "        'max_depth': 700,\n",
    "        'n_estimators': 40,\n",
    "        'min_samples_split': 9,\n",
    "        'min_samples_leaf': 1,\n",
    "        'random_state': 42\n",
    "        }\n",
    "\n",
    "mlflow.sklearn.autolog()\n",
    "\n",
    "rf = RandomForestClassifier(**best_params)\n",
    "rf.fit(train_data, y_train)"
   ]
  },
  {
   "cell_type": "code",
   "execution_count": 42,
   "metadata": {},
   "outputs": [
    {
     "name": "stderr",
     "output_type": "stream",
     "text": [
      "2022/08/19 09:30:27 INFO mlflow.utils.autologging_utils: Created MLflow autologging run with ID '9d7a0e1bd60a4c2d8ce15f46a4e662dd', which will track hyperparameters, performance metrics, model artifacts, and lineage information for the current sklearn workflow\n",
      "2022/08/19 09:30:28 WARNING mlflow.sklearn.utils: Failed to import matplotlib (error: ModuleNotFoundError(\"No module named 'matplotlib'\")). Skipping artifact logging.\n"
     ]
    },
    {
     "data": {
      "text/html": [
       "<style>#sk-container-id-5 {color: black;background-color: white;}#sk-container-id-5 pre{padding: 0;}#sk-container-id-5 div.sk-toggleable {background-color: white;}#sk-container-id-5 label.sk-toggleable__label {cursor: pointer;display: block;width: 100%;margin-bottom: 0;padding: 0.3em;box-sizing: border-box;text-align: center;}#sk-container-id-5 label.sk-toggleable__label-arrow:before {content: \"▸\";float: left;margin-right: 0.25em;color: #696969;}#sk-container-id-5 label.sk-toggleable__label-arrow:hover:before {color: black;}#sk-container-id-5 div.sk-estimator:hover label.sk-toggleable__label-arrow:before {color: black;}#sk-container-id-5 div.sk-toggleable__content {max-height: 0;max-width: 0;overflow: hidden;text-align: left;background-color: #f0f8ff;}#sk-container-id-5 div.sk-toggleable__content pre {margin: 0.2em;color: black;border-radius: 0.25em;background-color: #f0f8ff;}#sk-container-id-5 input.sk-toggleable__control:checked~div.sk-toggleable__content {max-height: 200px;max-width: 100%;overflow: auto;}#sk-container-id-5 input.sk-toggleable__control:checked~label.sk-toggleable__label-arrow:before {content: \"▾\";}#sk-container-id-5 div.sk-estimator input.sk-toggleable__control:checked~label.sk-toggleable__label {background-color: #d4ebff;}#sk-container-id-5 div.sk-label input.sk-toggleable__control:checked~label.sk-toggleable__label {background-color: #d4ebff;}#sk-container-id-5 input.sk-hidden--visually {border: 0;clip: rect(1px 1px 1px 1px);clip: rect(1px, 1px, 1px, 1px);height: 1px;margin: -1px;overflow: hidden;padding: 0;position: absolute;width: 1px;}#sk-container-id-5 div.sk-estimator {font-family: monospace;background-color: #f0f8ff;border: 1px dotted black;border-radius: 0.25em;box-sizing: border-box;margin-bottom: 0.5em;}#sk-container-id-5 div.sk-estimator:hover {background-color: #d4ebff;}#sk-container-id-5 div.sk-parallel-item::after {content: \"\";width: 100%;border-bottom: 1px solid gray;flex-grow: 1;}#sk-container-id-5 div.sk-label:hover label.sk-toggleable__label {background-color: #d4ebff;}#sk-container-id-5 div.sk-serial::before {content: \"\";position: absolute;border-left: 1px solid gray;box-sizing: border-box;top: 0;bottom: 0;left: 50%;z-index: 0;}#sk-container-id-5 div.sk-serial {display: flex;flex-direction: column;align-items: center;background-color: white;padding-right: 0.2em;padding-left: 0.2em;position: relative;}#sk-container-id-5 div.sk-item {position: relative;z-index: 1;}#sk-container-id-5 div.sk-parallel {display: flex;align-items: stretch;justify-content: center;background-color: white;position: relative;}#sk-container-id-5 div.sk-item::before, #sk-container-id-5 div.sk-parallel-item::before {content: \"\";position: absolute;border-left: 1px solid gray;box-sizing: border-box;top: 0;bottom: 0;left: 50%;z-index: -1;}#sk-container-id-5 div.sk-parallel-item {display: flex;flex-direction: column;z-index: 1;position: relative;background-color: white;}#sk-container-id-5 div.sk-parallel-item:first-child::after {align-self: flex-end;width: 50%;}#sk-container-id-5 div.sk-parallel-item:last-child::after {align-self: flex-start;width: 50%;}#sk-container-id-5 div.sk-parallel-item:only-child::after {width: 0;}#sk-container-id-5 div.sk-dashed-wrapped {border: 1px dashed gray;margin: 0 0.4em 0.5em 0.4em;box-sizing: border-box;padding-bottom: 0.4em;background-color: white;}#sk-container-id-5 div.sk-label label {font-family: monospace;font-weight: bold;display: inline-block;line-height: 1.2em;}#sk-container-id-5 div.sk-label-container {text-align: center;}#sk-container-id-5 div.sk-container {/* jupyter's `normalize.less` sets `[hidden] { display: none; }` but bootstrap.min.css set `[hidden] { display: none !important; }` so we also need the `!important` here to be able to override the default hidden behavior on the sphinx rendered scikit-learn.org. See: https://github.com/scikit-learn/scikit-learn/issues/21755 */display: inline-block !important;position: relative;}#sk-container-id-5 div.sk-text-repr-fallback {display: none;}</style><div id=\"sk-container-id-5\" class=\"sk-top-container\"><div class=\"sk-text-repr-fallback\"><pre>LogisticRegression(max_iter=500)</pre><b>In a Jupyter environment, please rerun this cell to show the HTML representation or trust the notebook. <br />On GitHub, the HTML representation is unable to render, please try loading this page with nbviewer.org.</b></div><div class=\"sk-container\" hidden><div class=\"sk-item\"><div class=\"sk-estimator sk-toggleable\"><input class=\"sk-toggleable__control sk-hidden--visually\" id=\"sk-estimator-id-5\" type=\"checkbox\" checked><label for=\"sk-estimator-id-5\" class=\"sk-toggleable__label sk-toggleable__label-arrow\">LogisticRegression</label><div class=\"sk-toggleable__content\"><pre>LogisticRegression(max_iter=500)</pre></div></div></div></div></div>"
      ],
      "text/plain": [
       "LogisticRegression(max_iter=500)"
      ]
     },
     "execution_count": 42,
     "metadata": {},
     "output_type": "execute_result"
    }
   ],
   "source": [
    "# autologging linear regression\n",
    "mlflow.sklearn.autolog()\n",
    "\n",
    "lr = LogisticRegression(max_iter=500, solver='lbfgs')\n",
    "lr.fit(train_data, y_train)"
   ]
  },
  {
   "cell_type": "markdown",
   "metadata": {},
   "source": [
    "Testing the registered models then promote best model to production"
   ]
  },
  {
   "cell_type": "code",
   "execution_count": 43,
   "metadata": {},
   "outputs": [
    {
     "name": "stdout",
     "output_type": "stream",
     "text": [
      "(5747, 7)\n"
     ]
    },
    {
     "data": {
      "text/html": [
       "<div>\n",
       "<style scoped>\n",
       "    .dataframe tbody tr th:only-of-type {\n",
       "        vertical-align: middle;\n",
       "    }\n",
       "\n",
       "    .dataframe tbody tr th {\n",
       "        vertical-align: top;\n",
       "    }\n",
       "\n",
       "    .dataframe thead th {\n",
       "        text-align: right;\n",
       "    }\n",
       "</style>\n",
       "<table border=\"1\" class=\"dataframe\">\n",
       "  <thead>\n",
       "    <tr style=\"text-align: right;\">\n",
       "      <th></th>\n",
       "      <th>Unnamed: 0.1</th>\n",
       "      <th>Unnamed: 0</th>\n",
       "      <th>title</th>\n",
       "      <th>text</th>\n",
       "      <th>subject</th>\n",
       "      <th>date</th>\n",
       "      <th>label</th>\n",
       "    </tr>\n",
       "  </thead>\n",
       "  <tbody>\n",
       "    <tr>\n",
       "      <th>0</th>\n",
       "      <td>27040</td>\n",
       "      <td>1585</td>\n",
       "      <td>U.S. Senate opposition to Obamacare repeal bil...</td>\n",
       "      <td>WASHINGTON (Reuters) - A proposal by U.S. Repu...</td>\n",
       "      <td>politicsNews</td>\n",
       "      <td>September 24, 2017</td>\n",
       "      <td>REAL</td>\n",
       "    </tr>\n",
       "    <tr>\n",
       "      <th>1</th>\n",
       "      <td>22353</td>\n",
       "      <td>15859</td>\n",
       "      <td>BREAKING: COURAGEOUS FEDERAL JUDGE DENIES OBAM...</td>\n",
       "      <td>If I were U.S. District Judge Andrew Hanen, I ...</td>\n",
       "      <td>politics</td>\n",
       "      <td>Apr 8, 2015</td>\n",
       "      <td>FAKE</td>\n",
       "    </tr>\n",
       "    <tr>\n",
       "      <th>2</th>\n",
       "      <td>25461</td>\n",
       "      <td>5943</td>\n",
       "      <td>Republican Senator Prays For God To Kill Obam...</td>\n",
       "      <td>The Republican Party is currently holding a jo...</td>\n",
       "      <td>News</td>\n",
       "      <td>June 10, 2016</td>\n",
       "      <td>FAKE</td>\n",
       "    </tr>\n",
       "    <tr>\n",
       "      <th>3</th>\n",
       "      <td>17391</td>\n",
       "      <td>6004</td>\n",
       "      <td>Trump Caught Paying Women Working On His Camp...</td>\n",
       "      <td>It s not surprising that Donald Trump would pa...</td>\n",
       "      <td>News</td>\n",
       "      <td>June 5, 2016</td>\n",
       "      <td>FAKE</td>\n",
       "    </tr>\n",
       "    <tr>\n",
       "      <th>4</th>\n",
       "      <td>5995</td>\n",
       "      <td>15252</td>\n",
       "      <td>HILLARY EXPOSED: WATCH UNCOVERED VIDEO The Hil...</td>\n",
       "      <td>Hillary shows her true colors when a female st...</td>\n",
       "      <td>politics</td>\n",
       "      <td>Aug 31, 2015</td>\n",
       "      <td>FAKE</td>\n",
       "    </tr>\n",
       "  </tbody>\n",
       "</table>\n",
       "</div>"
      ],
      "text/plain": [
       "   Unnamed: 0.1  Unnamed: 0  \\\n",
       "0         27040        1585   \n",
       "1         22353       15859   \n",
       "2         25461        5943   \n",
       "3         17391        6004   \n",
       "4          5995       15252   \n",
       "\n",
       "                                               title  \\\n",
       "0  U.S. Senate opposition to Obamacare repeal bil...   \n",
       "1  BREAKING: COURAGEOUS FEDERAL JUDGE DENIES OBAM...   \n",
       "2   Republican Senator Prays For God To Kill Obam...   \n",
       "3   Trump Caught Paying Women Working On His Camp...   \n",
       "4  HILLARY EXPOSED: WATCH UNCOVERED VIDEO The Hil...   \n",
       "\n",
       "                                                text       subject  \\\n",
       "0  WASHINGTON (Reuters) - A proposal by U.S. Repu...  politicsNews   \n",
       "1  If I were U.S. District Judge Andrew Hanen, I ...      politics   \n",
       "2  The Republican Party is currently holding a jo...          News   \n",
       "3  It s not surprising that Donald Trump would pa...          News   \n",
       "4  Hillary shows her true colors when a female st...      politics   \n",
       "\n",
       "                  date label  \n",
       "0  September 24, 2017   REAL  \n",
       "1          Apr 8, 2015  FAKE  \n",
       "2        June 10, 2016  FAKE  \n",
       "3         June 5, 2016  FAKE  \n",
       "4         Aug 31, 2015  FAKE  "
      ]
     },
     "execution_count": 43,
     "metadata": {},
     "output_type": "execute_result"
    }
   ],
   "source": [
    "# getting test data\n",
    "test_df = pd.read_csv('./data/news_b1.csv')\n",
    "print(test_df.shape)\n",
    "test_df.head()"
   ]
  },
  {
   "cell_type": "code",
   "execution_count": 44,
   "metadata": {},
   "outputs": [
    {
     "data": {
      "text/plain": [
       "Unnamed: 0.1    0\n",
       "Unnamed: 0      0\n",
       "title           0\n",
       "text            0\n",
       "subject         0\n",
       "date            0\n",
       "label           0\n",
       "dtype: int64"
      ]
     },
     "execution_count": 44,
     "metadata": {},
     "output_type": "execute_result"
    }
   ],
   "source": [
    "test_df.isnull().sum()"
   ]
  },
  {
   "cell_type": "code",
   "execution_count": 45,
   "metadata": {},
   "outputs": [
    {
     "data": {
      "text/plain": [
       "(5623, 7)"
      ]
     },
     "execution_count": 45,
     "metadata": {},
     "output_type": "execute_result"
    }
   ],
   "source": [
    "test_df.drop_duplicates(subset =\"title\", keep = 'first', inplace = True)\n",
    "test_df.shape"
   ]
  },
  {
   "cell_type": "code",
   "execution_count": 46,
   "metadata": {},
   "outputs": [
    {
     "data": {
      "text/html": [
       "<div>\n",
       "<style scoped>\n",
       "    .dataframe tbody tr th:only-of-type {\n",
       "        vertical-align: middle;\n",
       "    }\n",
       "\n",
       "    .dataframe tbody tr th {\n",
       "        vertical-align: top;\n",
       "    }\n",
       "\n",
       "    .dataframe thead th {\n",
       "        text-align: right;\n",
       "    }\n",
       "</style>\n",
       "<table border=\"1\" class=\"dataframe\">\n",
       "  <thead>\n",
       "    <tr style=\"text-align: right;\">\n",
       "      <th></th>\n",
       "      <th>Unnamed: 0.1</th>\n",
       "      <th>Unnamed: 0</th>\n",
       "      <th>title</th>\n",
       "      <th>text</th>\n",
       "      <th>subject</th>\n",
       "      <th>date</th>\n",
       "      <th>label</th>\n",
       "      <th>clean_title</th>\n",
       "    </tr>\n",
       "  </thead>\n",
       "  <tbody>\n",
       "    <tr>\n",
       "      <th>0</th>\n",
       "      <td>27040</td>\n",
       "      <td>1585</td>\n",
       "      <td>U.S. Senate opposition to Obamacare repeal bil...</td>\n",
       "      <td>WASHINGTON (Reuters) - A proposal by U.S. Repu...</td>\n",
       "      <td>politicsNews</td>\n",
       "      <td>September 24, 2017</td>\n",
       "      <td>0</td>\n",
       "      <td>senate opposition obamacare repeal bill grows</td>\n",
       "    </tr>\n",
       "    <tr>\n",
       "      <th>1</th>\n",
       "      <td>22353</td>\n",
       "      <td>15859</td>\n",
       "      <td>BREAKING: COURAGEOUS FEDERAL JUDGE DENIES OBAM...</td>\n",
       "      <td>If I were U.S. District Judge Andrew Hanen, I ...</td>\n",
       "      <td>politics</td>\n",
       "      <td>Apr 8, 2015</td>\n",
       "      <td>1</td>\n",
       "      <td>break courageous federal judge denies obamas r...</td>\n",
       "    </tr>\n",
       "    <tr>\n",
       "      <th>2</th>\n",
       "      <td>25461</td>\n",
       "      <td>5943</td>\n",
       "      <td>Republican Senator Prays For God To Kill Obam...</td>\n",
       "      <td>The Republican Party is currently holding a jo...</td>\n",
       "      <td>News</td>\n",
       "      <td>June 10, 2016</td>\n",
       "      <td>1</td>\n",
       "      <td>republican senator prays god kill obama soon p...</td>\n",
       "    </tr>\n",
       "    <tr>\n",
       "      <th>3</th>\n",
       "      <td>17391</td>\n",
       "      <td>6004</td>\n",
       "      <td>Trump Caught Paying Women Working On His Camp...</td>\n",
       "      <td>It s not surprising that Donald Trump would pa...</td>\n",
       "      <td>News</td>\n",
       "      <td>June 5, 2016</td>\n",
       "      <td>1</td>\n",
       "      <td>trump catch pay woman work campaign men</td>\n",
       "    </tr>\n",
       "    <tr>\n",
       "      <th>4</th>\n",
       "      <td>5995</td>\n",
       "      <td>15252</td>\n",
       "      <td>HILLARY EXPOSED: WATCH UNCOVERED VIDEO The Hil...</td>\n",
       "      <td>Hillary shows her true colors when a female st...</td>\n",
       "      <td>politics</td>\n",
       "      <td>Aug 31, 2015</td>\n",
       "      <td>1</td>\n",
       "      <td>hillary expose watch uncovered video hillary c...</td>\n",
       "    </tr>\n",
       "  </tbody>\n",
       "</table>\n",
       "</div>"
      ],
      "text/plain": [
       "   Unnamed: 0.1  Unnamed: 0  \\\n",
       "0         27040        1585   \n",
       "1         22353       15859   \n",
       "2         25461        5943   \n",
       "3         17391        6004   \n",
       "4          5995       15252   \n",
       "\n",
       "                                               title  \\\n",
       "0  U.S. Senate opposition to Obamacare repeal bil...   \n",
       "1  BREAKING: COURAGEOUS FEDERAL JUDGE DENIES OBAM...   \n",
       "2   Republican Senator Prays For God To Kill Obam...   \n",
       "3   Trump Caught Paying Women Working On His Camp...   \n",
       "4  HILLARY EXPOSED: WATCH UNCOVERED VIDEO The Hil...   \n",
       "\n",
       "                                                text       subject  \\\n",
       "0  WASHINGTON (Reuters) - A proposal by U.S. Repu...  politicsNews   \n",
       "1  If I were U.S. District Judge Andrew Hanen, I ...      politics   \n",
       "2  The Republican Party is currently holding a jo...          News   \n",
       "3  It s not surprising that Donald Trump would pa...          News   \n",
       "4  Hillary shows her true colors when a female st...      politics   \n",
       "\n",
       "                  date  label  \\\n",
       "0  September 24, 2017       0   \n",
       "1          Apr 8, 2015      1   \n",
       "2        June 10, 2016      1   \n",
       "3         June 5, 2016      1   \n",
       "4         Aug 31, 2015      1   \n",
       "\n",
       "                                         clean_title  \n",
       "0      senate opposition obamacare repeal bill grows  \n",
       "1  break courageous federal judge denies obamas r...  \n",
       "2  republican senator prays god kill obama soon p...  \n",
       "3            trump catch pay woman work campaign men  \n",
       "4  hillary expose watch uncovered video hillary c...  "
      ]
     },
     "execution_count": 46,
     "metadata": {},
     "output_type": "execute_result"
    }
   ],
   "source": [
    "# cleaning title\n",
    "test_df['clean_title'] = test_df['title'].apply(lambda x: normalize_document(x)) # normalize text\n",
    "test_df['clean_title'] = test_df['clean_title'].apply(lambda x: remove_stop(x)) # remove stopwords\n",
    "test_df['clean_title'] = test_df['clean_title'].apply(lambda x: lemmatize(x)) # lemmatize text\n",
    "test_df['label'] = (test_df.label == 'FAKE').astype(int)\n",
    "test_df.head()"
   ]
  },
  {
   "cell_type": "code",
   "execution_count": 47,
   "metadata": {},
   "outputs": [],
   "source": [
    "y_test = test_df.label.values\n",
    "X_test = transform_text(test_df)"
   ]
  },
  {
   "cell_type": "code",
   "execution_count": 48,
   "metadata": {},
   "outputs": [],
   "source": [
    "def test_model(name, stage, X_test, y_test):\n",
    "    model = mlflow.pyfunc.load_model(f\"models:/{name}/{stage}\")\n",
    "    y_pred = model.predict(X_test)\n",
    "    return classification_report(y_test,y_pred)"
   ]
  },
  {
   "cell_type": "code",
   "execution_count": 50,
   "metadata": {},
   "outputs": [
    {
     "name": "stdout",
     "output_type": "stream",
     "text": [
      "CPU times: user 240 ms, sys: 24 ms, total: 264 ms\n",
      "Wall time: 263 ms\n"
     ]
    },
    {
     "data": {
      "text/plain": [
       "'              precision    recall  f1-score   support\\n\\n           0       0.90      0.94      0.92      2702\\n           1       0.94      0.90      0.92      2921\\n\\n    accuracy                           0.92      5623\\n   macro avg       0.92      0.92      0.92      5623\\nweighted avg       0.92      0.92      0.92      5623\\n'"
      ]
     },
     "execution_count": 50,
     "metadata": {},
     "output_type": "execute_result"
    }
   ],
   "source": [
    "model_name = \"FakeNews_Classifier\"\n",
    "%time test_model(name=model_name, stage=\"Staging\", X_test=X_test, y_test=y_test)"
   ]
  },
  {
   "cell_type": "code",
   "execution_count": 51,
   "metadata": {},
   "outputs": [
    {
     "name": "stdout",
     "output_type": "stream",
     "text": [
      "CPU times: user 30.6 ms, sys: 4.01 ms, total: 34.6 ms\n",
      "Wall time: 34.1 ms\n"
     ]
    },
    {
     "data": {
      "text/plain": [
       "'              precision    recall  f1-score   support\\n\\n           0       0.92      0.96      0.94      2702\\n           1       0.96      0.92      0.94      2921\\n\\n    accuracy                           0.94      5623\\n   macro avg       0.94      0.94      0.94      5623\\nweighted avg       0.94      0.94      0.94      5623\\n'"
      ]
     },
     "execution_count": 51,
     "metadata": {},
     "output_type": "execute_result"
    }
   ],
   "source": [
    "%time test_model(name=model_name, stage=\"Production\", X_test=X_test, y_test=y_test)"
   ]
  }
 ],
 "metadata": {
  "kernelspec": {
   "display_name": "Python 3.9.12 ('nlp_project')",
   "language": "python",
   "name": "python3"
  },
  "language_info": {
   "codemirror_mode": {
    "name": "ipython",
    "version": 3
   },
   "file_extension": ".py",
   "mimetype": "text/x-python",
   "name": "python",
   "nbconvert_exporter": "python",
   "pygments_lexer": "ipython3",
   "version": "3.9.12"
  },
  "orig_nbformat": 4,
  "vscode": {
   "interpreter": {
    "hash": "af051668bd5aca68fc25e20157794f687d17470df4efe4a1d17b6023fa70a2fa"
   }
  }
 },
 "nbformat": 4,
 "nbformat_minor": 2
}
